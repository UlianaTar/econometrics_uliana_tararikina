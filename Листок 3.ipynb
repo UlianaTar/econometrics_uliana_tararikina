{
 "cells": [
  {
   "cell_type": "markdown",
   "id": "7a7725e0",
   "metadata": {},
   "source": [
    "# 1.1.1\n"
   ]
  },
  {
   "cell_type": "code",
   "execution_count": 1,
   "id": "dcb19d7b",
   "metadata": {},
   "outputs": [],
   "source": [
    "import pandas as pd\n",
    "import numpy as np\n",
    "import statsmodels.formula.api as smf\n",
    "import io\n"
   ]
  },
  {
   "cell_type": "code",
   "execution_count": 2,
   "id": "effbdf21",
   "metadata": {},
   "outputs": [
    {
     "data": {
      "text/plain": [
       "'sleep totwrk age male hrwage\\n3113   3438  32   1    7.07 \\n2920   5020  31   1    1.43 \\n2670   2815  44   1   20.53 \\n3083   3786  30   0    9.62 \\n3448   2580  64   1    2.75 \\n4063   1205  41   1   19.25 '"
      ]
     },
     "execution_count": 2,
     "metadata": {},
     "output_type": "execute_result"
    }
   ],
   "source": [
    "data= '''sleep totwrk age male hrwage\n",
    "3113   3438  32   1    7.07 \n",
    "2920   5020  31   1    1.43 \n",
    "2670   2815  44   1   20.53 \n",
    "3083   3786  30   0    9.62 \n",
    "3448   2580  64   1    2.75 \n",
    "4063   1205  41   1   19.25 '''\n",
    "data\n"
   ]
  },
  {
   "cell_type": "code",
   "execution_count": 3,
   "id": "92f01b72",
   "metadata": {},
   "outputs": [
    {
     "data": {
      "text/html": [
       "<div>\n",
       "<style scoped>\n",
       "    .dataframe tbody tr th:only-of-type {\n",
       "        vertical-align: middle;\n",
       "    }\n",
       "\n",
       "    .dataframe tbody tr th {\n",
       "        vertical-align: top;\n",
       "    }\n",
       "\n",
       "    .dataframe thead th {\n",
       "        text-align: right;\n",
       "    }\n",
       "</style>\n",
       "<table border=\"1\" class=\"dataframe\">\n",
       "  <thead>\n",
       "    <tr style=\"text-align: right;\">\n",
       "      <th></th>\n",
       "      <th>sleep</th>\n",
       "      <th>totwrk</th>\n",
       "      <th>age</th>\n",
       "      <th>male</th>\n",
       "      <th>hrwage</th>\n",
       "    </tr>\n",
       "  </thead>\n",
       "  <tbody>\n",
       "    <tr>\n",
       "      <th>0</th>\n",
       "      <td>3113</td>\n",
       "      <td>3438</td>\n",
       "      <td>32</td>\n",
       "      <td>1</td>\n",
       "      <td>7.07</td>\n",
       "    </tr>\n",
       "    <tr>\n",
       "      <th>1</th>\n",
       "      <td>2920</td>\n",
       "      <td>5020</td>\n",
       "      <td>31</td>\n",
       "      <td>1</td>\n",
       "      <td>1.43</td>\n",
       "    </tr>\n",
       "    <tr>\n",
       "      <th>2</th>\n",
       "      <td>2670</td>\n",
       "      <td>2815</td>\n",
       "      <td>44</td>\n",
       "      <td>1</td>\n",
       "      <td>20.53</td>\n",
       "    </tr>\n",
       "    <tr>\n",
       "      <th>3</th>\n",
       "      <td>3083</td>\n",
       "      <td>3786</td>\n",
       "      <td>30</td>\n",
       "      <td>0</td>\n",
       "      <td>9.62</td>\n",
       "    </tr>\n",
       "    <tr>\n",
       "      <th>4</th>\n",
       "      <td>3448</td>\n",
       "      <td>2580</td>\n",
       "      <td>64</td>\n",
       "      <td>1</td>\n",
       "      <td>2.75</td>\n",
       "    </tr>\n",
       "    <tr>\n",
       "      <th>5</th>\n",
       "      <td>4063</td>\n",
       "      <td>1205</td>\n",
       "      <td>41</td>\n",
       "      <td>1</td>\n",
       "      <td>19.25</td>\n",
       "    </tr>\n",
       "  </tbody>\n",
       "</table>\n",
       "</div>"
      ],
      "text/plain": [
       "   sleep  totwrk  age  male  hrwage\n",
       "0   3113    3438   32     1    7.07\n",
       "1   2920    5020   31     1    1.43\n",
       "2   2670    2815   44     1   20.53\n",
       "3   3083    3786   30     0    9.62\n",
       "4   3448    2580   64     1    2.75\n",
       "5   4063    1205   41     1   19.25"
      ]
     },
     "execution_count": 3,
     "metadata": {},
     "output_type": "execute_result"
    }
   ],
   "source": [
    "df=pd.read_csv(io.StringIO(data), sep='\\s+')\n",
    "df\n",
    "\n",
    "\n"
   ]
  },
  {
   "cell_type": "code",
   "execution_count": 4,
   "id": "8091fc39",
   "metadata": {},
   "outputs": [
    {
     "data": {
      "text/html": [
       "<div>\n",
       "<style scoped>\n",
       "    .dataframe tbody tr th:only-of-type {\n",
       "        vertical-align: middle;\n",
       "    }\n",
       "\n",
       "    .dataframe tbody tr th {\n",
       "        vertical-align: top;\n",
       "    }\n",
       "\n",
       "    .dataframe thead th {\n",
       "        text-align: right;\n",
       "    }\n",
       "</style>\n",
       "<table border=\"1\" class=\"dataframe\">\n",
       "  <thead>\n",
       "    <tr style=\"text-align: right;\">\n",
       "      <th></th>\n",
       "      <th>sleep</th>\n",
       "      <th>totwrk</th>\n",
       "      <th>age</th>\n",
       "      <th>male</th>\n",
       "      <th>hrwage</th>\n",
       "      <th>pred</th>\n",
       "    </tr>\n",
       "  </thead>\n",
       "  <tbody>\n",
       "    <tr>\n",
       "      <th>0</th>\n",
       "      <td>3113</td>\n",
       "      <td>3438</td>\n",
       "      <td>32</td>\n",
       "      <td>1</td>\n",
       "      <td>7.07</td>\n",
       "      <td>3059.416098</td>\n",
       "    </tr>\n",
       "    <tr>\n",
       "      <th>1</th>\n",
       "      <td>2920</td>\n",
       "      <td>5020</td>\n",
       "      <td>31</td>\n",
       "      <td>1</td>\n",
       "      <td>1.43</td>\n",
       "      <td>2820.466176</td>\n",
       "    </tr>\n",
       "    <tr>\n",
       "      <th>2</th>\n",
       "      <td>2670</td>\n",
       "      <td>2815</td>\n",
       "      <td>44</td>\n",
       "      <td>1</td>\n",
       "      <td>20.53</td>\n",
       "      <td>3168.003754</td>\n",
       "    </tr>\n",
       "    <tr>\n",
       "      <th>3</th>\n",
       "      <td>3083</td>\n",
       "      <td>3786</td>\n",
       "      <td>30</td>\n",
       "      <td>0</td>\n",
       "      <td>9.62</td>\n",
       "      <td>2945.613219</td>\n",
       "    </tr>\n",
       "    <tr>\n",
       "      <th>4</th>\n",
       "      <td>3448</td>\n",
       "      <td>2580</td>\n",
       "      <td>64</td>\n",
       "      <td>1</td>\n",
       "      <td>2.75</td>\n",
       "      <td>3257.865383</td>\n",
       "    </tr>\n",
       "    <tr>\n",
       "      <th>5</th>\n",
       "      <td>4063</td>\n",
       "      <td>1205</td>\n",
       "      <td>41</td>\n",
       "      <td>1</td>\n",
       "      <td>19.25</td>\n",
       "      <td>3421.379791</td>\n",
       "    </tr>\n",
       "  </tbody>\n",
       "</table>\n",
       "</div>"
      ],
      "text/plain": [
       "   sleep  totwrk  age  male  hrwage         pred\n",
       "0   3113    3438   32     1    7.07  3059.416098\n",
       "1   2920    5020   31     1    1.43  2820.466176\n",
       "2   2670    2815   44     1   20.53  3168.003754\n",
       "3   3083    3786   30     0    9.62  2945.613219\n",
       "4   3448    2580   64     1    2.75  3257.865383\n",
       "5   4063    1205   41     1   19.25  3421.379791"
      ]
     },
     "execution_count": 4,
     "metadata": {},
     "output_type": "execute_result"
    }
   ],
   "source": [
    "df['pred']=3525.14+(-0.16)*df['totwrk']+1.62*df['age']+51.84*df['male']+(-9.88)*np.log(df['hrwage'])\n",
    "df\n"
   ]
  },
  {
   "cell_type": "code",
   "execution_count": 5,
   "id": "93f5cccc",
   "metadata": {},
   "outputs": [
    {
     "data": {
      "text/html": [
       "<div>\n",
       "<style scoped>\n",
       "    .dataframe tbody tr th:only-of-type {\n",
       "        vertical-align: middle;\n",
       "    }\n",
       "\n",
       "    .dataframe tbody tr th {\n",
       "        vertical-align: top;\n",
       "    }\n",
       "\n",
       "    .dataframe thead th {\n",
       "        text-align: right;\n",
       "    }\n",
       "</style>\n",
       "<table border=\"1\" class=\"dataframe\">\n",
       "  <thead>\n",
       "    <tr style=\"text-align: right;\">\n",
       "      <th></th>\n",
       "      <th>sleep</th>\n",
       "      <th>totwrk</th>\n",
       "      <th>age</th>\n",
       "      <th>male</th>\n",
       "      <th>hrwage</th>\n",
       "      <th>pred</th>\n",
       "      <th>residual</th>\n",
       "    </tr>\n",
       "  </thead>\n",
       "  <tbody>\n",
       "    <tr>\n",
       "      <th>0</th>\n",
       "      <td>3113</td>\n",
       "      <td>3438</td>\n",
       "      <td>32</td>\n",
       "      <td>1</td>\n",
       "      <td>7.07</td>\n",
       "      <td>3059.416098</td>\n",
       "      <td>53.583902</td>\n",
       "    </tr>\n",
       "    <tr>\n",
       "      <th>1</th>\n",
       "      <td>2920</td>\n",
       "      <td>5020</td>\n",
       "      <td>31</td>\n",
       "      <td>1</td>\n",
       "      <td>1.43</td>\n",
       "      <td>2820.466176</td>\n",
       "      <td>99.533824</td>\n",
       "    </tr>\n",
       "    <tr>\n",
       "      <th>2</th>\n",
       "      <td>2670</td>\n",
       "      <td>2815</td>\n",
       "      <td>44</td>\n",
       "      <td>1</td>\n",
       "      <td>20.53</td>\n",
       "      <td>3168.003754</td>\n",
       "      <td>-498.003754</td>\n",
       "    </tr>\n",
       "    <tr>\n",
       "      <th>3</th>\n",
       "      <td>3083</td>\n",
       "      <td>3786</td>\n",
       "      <td>30</td>\n",
       "      <td>0</td>\n",
       "      <td>9.62</td>\n",
       "      <td>2945.613219</td>\n",
       "      <td>137.386781</td>\n",
       "    </tr>\n",
       "    <tr>\n",
       "      <th>4</th>\n",
       "      <td>3448</td>\n",
       "      <td>2580</td>\n",
       "      <td>64</td>\n",
       "      <td>1</td>\n",
       "      <td>2.75</td>\n",
       "      <td>3257.865383</td>\n",
       "      <td>190.134617</td>\n",
       "    </tr>\n",
       "    <tr>\n",
       "      <th>5</th>\n",
       "      <td>4063</td>\n",
       "      <td>1205</td>\n",
       "      <td>41</td>\n",
       "      <td>1</td>\n",
       "      <td>19.25</td>\n",
       "      <td>3421.379791</td>\n",
       "      <td>641.620209</td>\n",
       "    </tr>\n",
       "  </tbody>\n",
       "</table>\n",
       "</div>"
      ],
      "text/plain": [
       "   sleep  totwrk  age  male  hrwage         pred    residual\n",
       "0   3113    3438   32     1    7.07  3059.416098   53.583902\n",
       "1   2920    5020   31     1    1.43  2820.466176   99.533824\n",
       "2   2670    2815   44     1   20.53  3168.003754 -498.003754\n",
       "3   3083    3786   30     0    9.62  2945.613219  137.386781\n",
       "4   3448    2580   64     1    2.75  3257.865383  190.134617\n",
       "5   4063    1205   41     1   19.25  3421.379791  641.620209"
      ]
     },
     "execution_count": 5,
     "metadata": {},
     "output_type": "execute_result"
    }
   ],
   "source": [
    "df['residual']=df['sleep']-df['pred']\n",
    "df\n",
    "\n"
   ]
  },
  {
   "cell_type": "markdown",
   "id": "0df59236",
   "metadata": {},
   "source": [
    "# 1.1.2\n",
    "\n"
   ]
  },
  {
   "cell_type": "code",
   "execution_count": 6,
   "id": "d7c3267e",
   "metadata": {},
   "outputs": [],
   "source": [
    "import pandas as pd\n",
    "import numpy as np\n",
    "import statsmodels.formula.api as smf\n",
    "import io"
   ]
  },
  {
   "cell_type": "code",
   "execution_count": 7,
   "id": "4c86ff81",
   "metadata": {},
   "outputs": [
    {
     "data": {
      "text/plain": [
       "'output capital labour\\n9.25    2.61    184  \\n3.66    1.32     91  \\n28.78   22.09   426  \\n4.12    10.74    72  \\n2.89    1.16     46 '"
      ]
     },
     "execution_count": 7,
     "metadata": {},
     "output_type": "execute_result"
    }
   ],
   "source": [
    "data= '''output capital labour\n",
    "9.25    2.61    184  \n",
    "3.66    1.32     91  \n",
    "28.78   22.09   426  \n",
    "4.12    10.74    72  \n",
    "2.89    1.16     46 '''\n",
    "data\n"
   ]
  },
  {
   "cell_type": "code",
   "execution_count": 8,
   "id": "0d0a8a34",
   "metadata": {},
   "outputs": [
    {
     "data": {
      "text/html": [
       "<div>\n",
       "<style scoped>\n",
       "    .dataframe tbody tr th:only-of-type {\n",
       "        vertical-align: middle;\n",
       "    }\n",
       "\n",
       "    .dataframe tbody tr th {\n",
       "        vertical-align: top;\n",
       "    }\n",
       "\n",
       "    .dataframe thead th {\n",
       "        text-align: right;\n",
       "    }\n",
       "</style>\n",
       "<table border=\"1\" class=\"dataframe\">\n",
       "  <thead>\n",
       "    <tr style=\"text-align: right;\">\n",
       "      <th></th>\n",
       "      <th>output</th>\n",
       "      <th>capital</th>\n",
       "      <th>labour</th>\n",
       "    </tr>\n",
       "  </thead>\n",
       "  <tbody>\n",
       "    <tr>\n",
       "      <th>0</th>\n",
       "      <td>9.25</td>\n",
       "      <td>2.61</td>\n",
       "      <td>184</td>\n",
       "    </tr>\n",
       "    <tr>\n",
       "      <th>1</th>\n",
       "      <td>3.66</td>\n",
       "      <td>1.32</td>\n",
       "      <td>91</td>\n",
       "    </tr>\n",
       "    <tr>\n",
       "      <th>2</th>\n",
       "      <td>28.78</td>\n",
       "      <td>22.09</td>\n",
       "      <td>426</td>\n",
       "    </tr>\n",
       "    <tr>\n",
       "      <th>3</th>\n",
       "      <td>4.12</td>\n",
       "      <td>10.74</td>\n",
       "      <td>72</td>\n",
       "    </tr>\n",
       "    <tr>\n",
       "      <th>4</th>\n",
       "      <td>2.89</td>\n",
       "      <td>1.16</td>\n",
       "      <td>46</td>\n",
       "    </tr>\n",
       "  </tbody>\n",
       "</table>\n",
       "</div>"
      ],
      "text/plain": [
       "   output  capital  labour\n",
       "0    9.25     2.61     184\n",
       "1    3.66     1.32      91\n",
       "2   28.78    22.09     426\n",
       "3    4.12    10.74      72\n",
       "4    2.89     1.16      46"
      ]
     },
     "execution_count": 8,
     "metadata": {},
     "output_type": "execute_result"
    }
   ],
   "source": [
    "df=pd.read_csv(io.StringIO(data), sep='\\s+')\n",
    "df\n",
    "\n",
    "\n"
   ]
  },
  {
   "cell_type": "code",
   "execution_count": 9,
   "id": "d2b402c0",
   "metadata": {},
   "outputs": [
    {
     "data": {
      "text/html": [
       "<div>\n",
       "<style scoped>\n",
       "    .dataframe tbody tr th:only-of-type {\n",
       "        vertical-align: middle;\n",
       "    }\n",
       "\n",
       "    .dataframe tbody tr th {\n",
       "        vertical-align: top;\n",
       "    }\n",
       "\n",
       "    .dataframe thead th {\n",
       "        text-align: right;\n",
       "    }\n",
       "</style>\n",
       "<table border=\"1\" class=\"dataframe\">\n",
       "  <thead>\n",
       "    <tr style=\"text-align: right;\">\n",
       "      <th></th>\n",
       "      <th>output</th>\n",
       "      <th>capital</th>\n",
       "      <th>labour</th>\n",
       "      <th>pred</th>\n",
       "    </tr>\n",
       "  </thead>\n",
       "  <tbody>\n",
       "    <tr>\n",
       "      <th>0</th>\n",
       "      <td>9.25</td>\n",
       "      <td>2.61</td>\n",
       "      <td>184</td>\n",
       "      <td>2.194068</td>\n",
       "    </tr>\n",
       "    <tr>\n",
       "      <th>1</th>\n",
       "      <td>3.66</td>\n",
       "      <td>1.32</td>\n",
       "      <td>91</td>\n",
       "      <td>1.551013</td>\n",
       "    </tr>\n",
       "    <tr>\n",
       "      <th>2</th>\n",
       "      <td>28.78</td>\n",
       "      <td>22.09</td>\n",
       "      <td>426</td>\n",
       "      <td>3.238628</td>\n",
       "    </tr>\n",
       "    <tr>\n",
       "      <th>3</th>\n",
       "      <td>4.12</td>\n",
       "      <td>10.74</td>\n",
       "      <td>72</td>\n",
       "      <td>1.824968</td>\n",
       "    </tr>\n",
       "    <tr>\n",
       "      <th>4</th>\n",
       "      <td>2.89</td>\n",
       "      <td>1.16</td>\n",
       "      <td>46</td>\n",
       "      <td>1.039504</td>\n",
       "    </tr>\n",
       "  </tbody>\n",
       "</table>\n",
       "</div>"
      ],
      "text/plain": [
       "   output  capital  labour      pred\n",
       "0    9.25     2.61     184  2.194068\n",
       "1    3.66     1.32      91  1.551013\n",
       "2   28.78    22.09     426  3.238628\n",
       "3    4.12    10.74      72  1.824968\n",
       "4    2.89     1.16      46  1.039504"
      ]
     },
     "execution_count": 9,
     "metadata": {},
     "output_type": "execute_result"
    }
   ],
   "source": [
    "df['pred']=(-1.71)+0.21*np.log(df['capital'])+0.71*np.log(df['labour'])\n",
    "df"
   ]
  },
  {
   "cell_type": "code",
   "execution_count": 10,
   "id": "d187a85a",
   "metadata": {},
   "outputs": [
    {
     "data": {
      "text/html": [
       "<div>\n",
       "<style scoped>\n",
       "    .dataframe tbody tr th:only-of-type {\n",
       "        vertical-align: middle;\n",
       "    }\n",
       "\n",
       "    .dataframe tbody tr th {\n",
       "        vertical-align: top;\n",
       "    }\n",
       "\n",
       "    .dataframe thead th {\n",
       "        text-align: right;\n",
       "    }\n",
       "</style>\n",
       "<table border=\"1\" class=\"dataframe\">\n",
       "  <thead>\n",
       "    <tr style=\"text-align: right;\">\n",
       "      <th></th>\n",
       "      <th>output</th>\n",
       "      <th>capital</th>\n",
       "      <th>labour</th>\n",
       "      <th>pred</th>\n",
       "      <th>residual</th>\n",
       "    </tr>\n",
       "  </thead>\n",
       "  <tbody>\n",
       "    <tr>\n",
       "      <th>0</th>\n",
       "      <td>9.25</td>\n",
       "      <td>2.61</td>\n",
       "      <td>184</td>\n",
       "      <td>2.194068</td>\n",
       "      <td>0.030556</td>\n",
       "    </tr>\n",
       "    <tr>\n",
       "      <th>1</th>\n",
       "      <td>3.66</td>\n",
       "      <td>1.32</td>\n",
       "      <td>91</td>\n",
       "      <td>1.551013</td>\n",
       "      <td>-0.253550</td>\n",
       "    </tr>\n",
       "    <tr>\n",
       "      <th>2</th>\n",
       "      <td>28.78</td>\n",
       "      <td>22.09</td>\n",
       "      <td>426</td>\n",
       "      <td>3.238628</td>\n",
       "      <td>0.121053</td>\n",
       "    </tr>\n",
       "    <tr>\n",
       "      <th>3</th>\n",
       "      <td>4.12</td>\n",
       "      <td>10.74</td>\n",
       "      <td>72</td>\n",
       "      <td>1.824968</td>\n",
       "      <td>-0.409115</td>\n",
       "    </tr>\n",
       "    <tr>\n",
       "      <th>4</th>\n",
       "      <td>2.89</td>\n",
       "      <td>1.16</td>\n",
       "      <td>46</td>\n",
       "      <td>1.039504</td>\n",
       "      <td>0.021753</td>\n",
       "    </tr>\n",
       "  </tbody>\n",
       "</table>\n",
       "</div>"
      ],
      "text/plain": [
       "   output  capital  labour      pred  residual\n",
       "0    9.25     2.61     184  2.194068  0.030556\n",
       "1    3.66     1.32      91  1.551013 -0.253550\n",
       "2   28.78    22.09     426  3.238628  0.121053\n",
       "3    4.12    10.74      72  1.824968 -0.409115\n",
       "4    2.89     1.16      46  1.039504  0.021753"
      ]
     },
     "execution_count": 10,
     "metadata": {},
     "output_type": "execute_result"
    }
   ],
   "source": [
    "df['residual']=np.log(df['output'])-df['pred']\n",
    "df\n"
   ]
  },
  {
   "cell_type": "markdown",
   "id": "f2b1877b",
   "metadata": {},
   "source": [
    "# 1.2.4\n",
    "\n",
    "\n"
   ]
  },
  {
   "cell_type": "code",
   "execution_count": 11,
   "id": "a9b01378",
   "metadata": {},
   "outputs": [],
   "source": [
    "ren=np.array((-0.24,0.41,1.22,-0.93,-0.37, -1.33, 0.16,-0.27,0.06,1.29))"
   ]
  },
  {
   "cell_type": "code",
   "execution_count": 12,
   "id": "2cc86595",
   "metadata": {},
   "outputs": [
    {
     "name": "stdout",
     "output_type": "stream",
     "text": [
      "RSS= 6.25\n"
     ]
    }
   ],
   "source": [
    "RSS=np.square(ren).sum().round(2)\n",
    "print('RSS=', RSS)\n"
   ]
  },
  {
   "cell_type": "code",
   "execution_count": 13,
   "id": "72cdf648",
   "metadata": {},
   "outputs": [
    {
     "name": "stdout",
     "output_type": "stream",
     "text": [
      "s= 0.94\n"
     ]
    }
   ],
   "source": [
    "n=len(ren)\n",
    "k=2\n",
    "s=np.sqrt(RSS/(n-k-1)).round(2)\n",
    "print('s=',s)\n",
    "\n",
    "\n"
   ]
  },
  {
   "cell_type": "markdown",
   "id": "45f7ef2c",
   "metadata": {},
   "source": [
    "# 1.2.7\n",
    "\n",
    "\n"
   ]
  },
  {
   "cell_type": "code",
   "execution_count": 14,
   "id": "bdbaa9fc",
   "metadata": {},
   "outputs": [
    {
     "data": {
      "text/plain": [
       "132.739"
      ]
     },
     "execution_count": 14,
     "metadata": {},
     "output_type": "execute_result"
    }
   ],
   "source": [
    "s=0.378\n",
    "n=935\n",
    "k=5\n",
    "RSS=round(((s**2)*(n-k-1)),3)\n",
    "RSS\n",
    "\n",
    "\n"
   ]
  },
  {
   "cell_type": "markdown",
   "id": "7c1bf904",
   "metadata": {},
   "source": [
    "# 1.2.8"
   ]
  },
  {
   "cell_type": "code",
   "execution_count": 15,
   "id": "e8d3c6b4",
   "metadata": {},
   "outputs": [
    {
     "data": {
      "text/plain": [
       "165.962"
      ]
     },
     "execution_count": 15,
     "metadata": {},
     "output_type": "execute_result"
    }
   ],
   "source": [
    "s=0.383\n",
    "n=935\n",
    "k=4\n",
    "RSS=round(((s**2)*(n-k-1)),3)\n",
    "R2=0.178\n",
    "TSS= round(RSS/ (1-R2),3)\n",
    "TSS"
   ]
  },
  {
   "cell_type": "markdown",
   "id": "97b2c0b8",
   "metadata": {},
   "source": [
    "# 1.2.9\n"
   ]
  },
  {
   "cell_type": "code",
   "execution_count": 16,
   "id": "9ba33824",
   "metadata": {},
   "outputs": [
    {
     "data": {
      "text/plain": [
       "24.687"
      ]
     },
     "execution_count": 16,
     "metadata": {},
     "output_type": "execute_result"
    }
   ],
   "source": [
    "s=0.389\n",
    "n=935\n",
    "k=3\n",
    "RSS=round(((s**2)*(n-k-1)))\n",
    "R2=0.149\n",
    "ESS=round((RSS*R2)/(1-R2),3)\n",
    "ESS\n"
   ]
  },
  {
   "cell_type": "markdown",
   "id": "715482dc",
   "metadata": {},
   "source": [
    "# 3.1"
   ]
  },
  {
   "cell_type": "code",
   "execution_count": 17,
   "id": "2cb6ef0f",
   "metadata": {},
   "outputs": [],
   "source": [
    "import pandas as pd\n",
    "import numpy as np\n",
    "import statsmodels.formula.api as smf\n",
    "import io"
   ]
  },
  {
   "cell_type": "code",
   "execution_count": 22,
   "id": "63506d8f",
   "metadata": {},
   "outputs": [
    {
     "data": {
      "text/plain": [
       "'i   Факт  Fitted  Остаток \\n1   3113 3094.454  18.546 \\n4   3083 2943.580 139.420 \\n6   4063 3494.143 568.857 \\n10  3018 3111.983 -93.983 \\n508 3630 3476.914 153.086 \\n700 2993 3295.398 -302.398'"
      ]
     },
     "execution_count": 22,
     "metadata": {},
     "output_type": "execute_result"
    }
   ],
   "source": [
    "data='''i   Факт  Fitted  Остаток \n",
    "1   3113 3094.454  18.546 \n",
    "4   3083 2943.580 139.420 \n",
    "6   4063 3494.143 568.857 \n",
    "10  3018 3111.983 -93.983 \n",
    "508 3630 3476.914 153.086 \n",
    "700 2993 3295.398 -302.398'''\n",
    "data\n"
   ]
  },
  {
   "cell_type": "code",
   "execution_count": 23,
   "id": "df38c760",
   "metadata": {},
   "outputs": [
    {
     "data": {
      "text/html": [
       "<div>\n",
       "<style scoped>\n",
       "    .dataframe tbody tr th:only-of-type {\n",
       "        vertical-align: middle;\n",
       "    }\n",
       "\n",
       "    .dataframe tbody tr th {\n",
       "        vertical-align: top;\n",
       "    }\n",
       "\n",
       "    .dataframe thead th {\n",
       "        text-align: right;\n",
       "    }\n",
       "</style>\n",
       "<table border=\"1\" class=\"dataframe\">\n",
       "  <thead>\n",
       "    <tr style=\"text-align: right;\">\n",
       "      <th></th>\n",
       "      <th>i</th>\n",
       "      <th>Факт</th>\n",
       "      <th>Fitted</th>\n",
       "      <th>Остаток</th>\n",
       "    </tr>\n",
       "  </thead>\n",
       "  <tbody>\n",
       "    <tr>\n",
       "      <th>0</th>\n",
       "      <td>1</td>\n",
       "      <td>3113</td>\n",
       "      <td>3094.454</td>\n",
       "      <td>18.546</td>\n",
       "    </tr>\n",
       "    <tr>\n",
       "      <th>1</th>\n",
       "      <td>4</td>\n",
       "      <td>3083</td>\n",
       "      <td>2943.580</td>\n",
       "      <td>139.420</td>\n",
       "    </tr>\n",
       "    <tr>\n",
       "      <th>2</th>\n",
       "      <td>6</td>\n",
       "      <td>4063</td>\n",
       "      <td>3494.143</td>\n",
       "      <td>568.857</td>\n",
       "    </tr>\n",
       "    <tr>\n",
       "      <th>3</th>\n",
       "      <td>10</td>\n",
       "      <td>3018</td>\n",
       "      <td>3111.983</td>\n",
       "      <td>-93.983</td>\n",
       "    </tr>\n",
       "    <tr>\n",
       "      <th>4</th>\n",
       "      <td>508</td>\n",
       "      <td>3630</td>\n",
       "      <td>3476.914</td>\n",
       "      <td>153.086</td>\n",
       "    </tr>\n",
       "    <tr>\n",
       "      <th>5</th>\n",
       "      <td>700</td>\n",
       "      <td>2993</td>\n",
       "      <td>3295.398</td>\n",
       "      <td>-302.398</td>\n",
       "    </tr>\n",
       "  </tbody>\n",
       "</table>\n",
       "</div>"
      ],
      "text/plain": [
       "     i  Факт    Fitted  Остаток\n",
       "0    1  3113  3094.454   18.546\n",
       "1    4  3083  2943.580  139.420\n",
       "2    6  4063  3494.143  568.857\n",
       "3   10  3018  3111.983  -93.983\n",
       "4  508  3630  3476.914  153.086\n",
       "5  700  2993  3295.398 -302.398"
      ]
     },
     "execution_count": 23,
     "metadata": {},
     "output_type": "execute_result"
    }
   ],
   "source": [
    "df=pd.read_csv(io.StringIO(data), sep='\\s+')\n",
    "df\n",
    "\n"
   ]
  },
  {
   "cell_type": "code",
   "execution_count": 24,
   "id": "9c6e8f9f",
   "metadata": {},
   "outputs": [
    {
     "data": {
      "text/plain": [
       "0    3113\n",
       "1    3083\n",
       "2    4063\n",
       "3    3018\n",
       "4    3630\n",
       "5    2993\n",
       "Name: Факт, dtype: int64"
      ]
     },
     "execution_count": 24,
     "metadata": {},
     "output_type": "execute_result"
    }
   ],
   "source": [
    "df['Факт']\n"
   ]
  },
  {
   "cell_type": "code",
   "execution_count": 25,
   "id": "50c1b4dd",
   "metadata": {},
   "outputs": [
    {
     "data": {
      "text/plain": [
       "3316.6666666666665"
      ]
     },
     "execution_count": 25,
     "metadata": {},
     "output_type": "execute_result"
    }
   ],
   "source": [
    "df['Факт'].mean()"
   ]
  },
  {
   "cell_type": "code",
   "execution_count": 26,
   "id": "1e3b9d1c",
   "metadata": {},
   "outputs": [
    {
     "data": {
      "text/plain": [
       "0     41480.111111\n",
       "1     54600.111111\n",
       "2    557013.444444\n",
       "3     89201.777778\n",
       "4     98177.777778\n",
       "5    104760.111111\n",
       "Name: Факт, dtype: float64"
      ]
     },
     "execution_count": 26,
     "metadata": {},
     "output_type": "execute_result"
    }
   ],
   "source": [
    "tss_=(df['Факт']-df['Факт'].mean(0))**2\n",
    "tss_"
   ]
  },
  {
   "cell_type": "code",
   "execution_count": 27,
   "id": "8263e491",
   "metadata": {},
   "outputs": [
    {
     "data": {
      "text/plain": [
       "945233.3333333334"
      ]
     },
     "execution_count": 27,
     "metadata": {},
     "output_type": "execute_result"
    }
   ],
   "source": [
    "TSS=np.sum((df['Факт']-df['Факт'].mean())**2)\n",
    "TSS\n"
   ]
  },
  {
   "cell_type": "code",
   "execution_count": 28,
   "id": "5856883d",
   "metadata": {},
   "outputs": [
    {
     "data": {
      "text/plain": [
       "0    3094.454\n",
       "1    2943.580\n",
       "2    3494.143\n",
       "3    3111.983\n",
       "4    3476.914\n",
       "5    3295.398\n",
       "Name: Fitted, dtype: float64"
      ]
     },
     "execution_count": 28,
     "metadata": {},
     "output_type": "execute_result"
    }
   ],
   "source": [
    "df['Fitted']\n"
   ]
  },
  {
   "cell_type": "code",
   "execution_count": 29,
   "id": "cf3d6390",
   "metadata": {},
   "outputs": [
    {
     "data": {
      "text/plain": [
       "3236.078666666667"
      ]
     },
     "execution_count": 29,
     "metadata": {},
     "output_type": "execute_result"
    }
   ],
   "source": [
    "df['Fitted'].mean(0)"
   ]
  },
  {
   "cell_type": "code",
   "execution_count": 30,
   "id": "59823b29",
   "metadata": {},
   "outputs": [
    {
     "data": {
      "text/plain": [
       "288096.9463873332"
      ]
     },
     "execution_count": 30,
     "metadata": {},
     "output_type": "execute_result"
    }
   ],
   "source": [
    "ESS=np.sum((df['Fitted']-df['Факт'].mean())**2)\n",
    "ESS\n"
   ]
  },
  {
   "cell_type": "code",
   "execution_count": 31,
   "id": "3190ae27",
   "metadata": {},
   "outputs": [
    {
     "data": {
      "text/plain": [
       "657136.3869460002"
      ]
     },
     "execution_count": 31,
     "metadata": {},
     "output_type": "execute_result"
    }
   ],
   "source": [
    "RSS=TSS-ESS\n",
    "RSS"
   ]
  },
  {
   "cell_type": "code",
   "execution_count": 32,
   "id": "bb083a45",
   "metadata": {},
   "outputs": [
    {
     "data": {
      "text/plain": [
       "0.30478923692985843"
      ]
     },
     "execution_count": 32,
     "metadata": {},
     "output_type": "execute_result"
    }
   ],
   "source": [
    "R2=ESS/TSS\n",
    "R2"
   ]
  },
  {
   "cell_type": "code",
   "execution_count": 33,
   "id": "e2c6afdf",
   "metadata": {},
   "outputs": [
    {
     "data": {
      "text/plain": [
       "0.30179263881317675"
      ]
     },
     "execution_count": 33,
     "metadata": {},
     "output_type": "execute_result"
    }
   ],
   "source": [
    "R2_adj=1-(1-R2)*(700-1)/(700-4)\n",
    "R2_adj"
   ]
  },
  {
   "cell_type": "code",
   "execution_count": 34,
   "id": "e651136a",
   "metadata": {},
   "outputs": [
    {
     "data": {
      "text/plain": [
       "810.6394925896469"
      ]
     },
     "execution_count": 34,
     "metadata": {},
     "output_type": "execute_result"
    }
   ],
   "source": [
    "SER=np.sqrt(RSS)\n",
    "SER"
   ]
  },
  {
   "cell_type": "markdown",
   "id": "11318c24",
   "metadata": {},
   "source": [
    "# 3.2"
   ]
  },
  {
   "cell_type": "code",
   "execution_count": 35,
   "id": "64967b25",
   "metadata": {},
   "outputs": [
    {
     "data": {
      "text/plain": [
       "'i   Факт  Fitted  Остаток \\n1   2670 3132.491 -462.491\\n9   3090 3370.083 -280.083\\n56  2985 2835.360 149.640 \\n76  3660 3248.540 411.460 \\n100 2618 2863.070 -245.070'"
      ]
     },
     "execution_count": 35,
     "metadata": {},
     "output_type": "execute_result"
    }
   ],
   "source": [
    "data='''i   Факт  Fitted  Остаток \n",
    "1   2670 3132.491 -462.491\n",
    "9   3090 3370.083 -280.083\n",
    "56  2985 2835.360 149.640 \n",
    "76  3660 3248.540 411.460 \n",
    "100 2618 2863.070 -245.070'''\n",
    "data"
   ]
  },
  {
   "cell_type": "code",
   "execution_count": 36,
   "id": "215cc1d3",
   "metadata": {},
   "outputs": [
    {
     "data": {
      "text/html": [
       "<div>\n",
       "<style scoped>\n",
       "    .dataframe tbody tr th:only-of-type {\n",
       "        vertical-align: middle;\n",
       "    }\n",
       "\n",
       "    .dataframe tbody tr th {\n",
       "        vertical-align: top;\n",
       "    }\n",
       "\n",
       "    .dataframe thead th {\n",
       "        text-align: right;\n",
       "    }\n",
       "</style>\n",
       "<table border=\"1\" class=\"dataframe\">\n",
       "  <thead>\n",
       "    <tr style=\"text-align: right;\">\n",
       "      <th></th>\n",
       "      <th>i</th>\n",
       "      <th>Факт</th>\n",
       "      <th>Fitted</th>\n",
       "      <th>Остаток</th>\n",
       "    </tr>\n",
       "  </thead>\n",
       "  <tbody>\n",
       "    <tr>\n",
       "      <th>0</th>\n",
       "      <td>1</td>\n",
       "      <td>2670</td>\n",
       "      <td>3132.491</td>\n",
       "      <td>-462.491</td>\n",
       "    </tr>\n",
       "    <tr>\n",
       "      <th>1</th>\n",
       "      <td>9</td>\n",
       "      <td>3090</td>\n",
       "      <td>3370.083</td>\n",
       "      <td>-280.083</td>\n",
       "    </tr>\n",
       "    <tr>\n",
       "      <th>2</th>\n",
       "      <td>56</td>\n",
       "      <td>2985</td>\n",
       "      <td>2835.360</td>\n",
       "      <td>149.640</td>\n",
       "    </tr>\n",
       "    <tr>\n",
       "      <th>3</th>\n",
       "      <td>76</td>\n",
       "      <td>3660</td>\n",
       "      <td>3248.540</td>\n",
       "      <td>411.460</td>\n",
       "    </tr>\n",
       "    <tr>\n",
       "      <th>4</th>\n",
       "      <td>100</td>\n",
       "      <td>2618</td>\n",
       "      <td>2863.070</td>\n",
       "      <td>-245.070</td>\n",
       "    </tr>\n",
       "  </tbody>\n",
       "</table>\n",
       "</div>"
      ],
      "text/plain": [
       "     i  Факт    Fitted  Остаток\n",
       "0    1  2670  3132.491 -462.491\n",
       "1    9  3090  3370.083 -280.083\n",
       "2   56  2985  2835.360  149.640\n",
       "3   76  3660  3248.540  411.460\n",
       "4  100  2618  2863.070 -245.070"
      ]
     },
     "execution_count": 36,
     "metadata": {},
     "output_type": "execute_result"
    }
   ],
   "source": [
    "df=pd.read_csv(io.StringIO(data), sep='\\s+')\n",
    "df"
   ]
  },
  {
   "cell_type": "code",
   "execution_count": 37,
   "id": "ad20ee15",
   "metadata": {},
   "outputs": [
    {
     "data": {
      "text/plain": [
       "0    2670\n",
       "1    3090\n",
       "2    2985\n",
       "3    3660\n",
       "4    2618\n",
       "Name: Факт, dtype: int64"
      ]
     },
     "execution_count": 37,
     "metadata": {},
     "output_type": "execute_result"
    }
   ],
   "source": [
    "df['Факт']"
   ]
  },
  {
   "cell_type": "code",
   "execution_count": 38,
   "id": "cdd7cec2",
   "metadata": {},
   "outputs": [
    {
     "data": {
      "text/plain": [
       "3004.6"
      ]
     },
     "execution_count": 38,
     "metadata": {},
     "output_type": "execute_result"
    }
   ],
   "source": [
    "df['Факт'].mean()"
   ]
  },
  {
   "cell_type": "code",
   "execution_count": 39,
   "id": "ec904c2b",
   "metadata": {},
   "outputs": [
    {
     "data": {
      "text/plain": [
       "0    111957.16\n",
       "1      7293.16\n",
       "2       384.16\n",
       "3    429549.16\n",
       "4    149459.56\n",
       "Name: Факт, dtype: float64"
      ]
     },
     "execution_count": 39,
     "metadata": {},
     "output_type": "execute_result"
    }
   ],
   "source": [
    "tss_=(df['Факт']-df['Факт'].mean(0))**2\n",
    "tss_"
   ]
  },
  {
   "cell_type": "code",
   "execution_count": 40,
   "id": "6dab2794",
   "metadata": {},
   "outputs": [
    {
     "data": {
      "text/plain": [
       "698643.2"
      ]
     },
     "execution_count": 40,
     "metadata": {},
     "output_type": "execute_result"
    }
   ],
   "source": [
    "TSS=np.sum((df['Факт']-df['Факт'].mean())**2)\n",
    "TSS"
   ]
  },
  {
   "cell_type": "code",
   "execution_count": 41,
   "id": "733a4c7d",
   "metadata": {},
   "outputs": [
    {
     "data": {
      "text/plain": [
       "0    3132.491\n",
       "1    3370.083\n",
       "2    2835.360\n",
       "3    3248.540\n",
       "4    2863.070\n",
       "Name: Fitted, dtype: float64"
      ]
     },
     "execution_count": 41,
     "metadata": {},
     "output_type": "execute_result"
    }
   ],
   "source": [
    "df['Fitted']"
   ]
  },
  {
   "cell_type": "code",
   "execution_count": 42,
   "id": "b85a3b9a",
   "metadata": {},
   "outputs": [
    {
     "data": {
      "text/plain": [
       "3089.9088"
      ]
     },
     "execution_count": 42,
     "metadata": {},
     "output_type": "execute_result"
    }
   ],
   "source": [
    "df['Fitted'].mean(0)"
   ]
  },
  {
   "cell_type": "code",
   "execution_count": 43,
   "id": "938b3c52",
   "metadata": {},
   "outputs": [
    {
     "data": {
      "text/plain": [
       "258113.57327000005"
      ]
     },
     "execution_count": 43,
     "metadata": {},
     "output_type": "execute_result"
    }
   ],
   "source": [
    "ESS=np.sum((df['Fitted']-df['Факт'].mean())**2)\n",
    "ESS"
   ]
  },
  {
   "cell_type": "code",
   "execution_count": 44,
   "id": "a8c77eef",
   "metadata": {},
   "outputs": [
    {
     "data": {
      "text/plain": [
       "440529.6267299999"
      ]
     },
     "execution_count": 44,
     "metadata": {},
     "output_type": "execute_result"
    }
   ],
   "source": [
    "RSS=TSS-ESS\n",
    "RSS"
   ]
  },
  {
   "cell_type": "code",
   "execution_count": 45,
   "id": "84f4d6c6",
   "metadata": {},
   "outputs": [
    {
     "data": {
      "text/plain": [
       "0.36944977532165213"
      ]
     },
     "execution_count": 45,
     "metadata": {},
     "output_type": "execute_result"
    }
   ],
   "source": [
    "R2=ESS/TSS\n",
    "R2"
   ]
  },
  {
   "cell_type": "code",
   "execution_count": 46,
   "id": "4e5549ce",
   "metadata": {},
   "outputs": [
    {
     "data": {
      "text/plain": [
       "0.34974508080045374"
      ]
     },
     "execution_count": 46,
     "metadata": {},
     "output_type": "execute_result"
    }
   ],
   "source": [
    "R2_adj=1-(1-R2)*(100-1)/(100-4)\n",
    "R2_adj"
   ]
  },
  {
   "cell_type": "code",
   "execution_count": 47,
   "id": "7a4fbd10",
   "metadata": {},
   "outputs": [
    {
     "data": {
      "text/plain": [
       "663.7240591767032"
      ]
     },
     "execution_count": 47,
     "metadata": {},
     "output_type": "execute_result"
    }
   ],
   "source": [
    "SER=np.sqrt(RSS)\n",
    "SER"
   ]
  },
  {
   "cell_type": "markdown",
   "id": "116f1132",
   "metadata": {},
   "source": [
    "# 3.3"
   ]
  },
  {
   "cell_type": "code",
   "execution_count": 48,
   "id": "bde7392d",
   "metadata": {},
   "outputs": [
    {
     "data": {
      "text/plain": [
       "'i   Факт  Fitted  Остаток \\n1   3113 3061.481  51.519 \\n9   3018 3087.341 -69.341 \\n45  3363 3268.521  94.479 \\n187 3390 3228.976 161.024 \\n280 2955 3399.060 -444.060'"
      ]
     },
     "execution_count": 48,
     "metadata": {},
     "output_type": "execute_result"
    }
   ],
   "source": [
    "data='''i   Факт  Fitted  Остаток \n",
    "1   3113 3061.481  51.519 \n",
    "9   3018 3087.341 -69.341 \n",
    "45  3363 3268.521  94.479 \n",
    "187 3390 3228.976 161.024 \n",
    "280 2955 3399.060 -444.060'''\n",
    "data"
   ]
  },
  {
   "cell_type": "code",
   "execution_count": 49,
   "id": "61497bcb",
   "metadata": {},
   "outputs": [
    {
     "data": {
      "text/html": [
       "<div>\n",
       "<style scoped>\n",
       "    .dataframe tbody tr th:only-of-type {\n",
       "        vertical-align: middle;\n",
       "    }\n",
       "\n",
       "    .dataframe tbody tr th {\n",
       "        vertical-align: top;\n",
       "    }\n",
       "\n",
       "    .dataframe thead th {\n",
       "        text-align: right;\n",
       "    }\n",
       "</style>\n",
       "<table border=\"1\" class=\"dataframe\">\n",
       "  <thead>\n",
       "    <tr style=\"text-align: right;\">\n",
       "      <th></th>\n",
       "      <th>i</th>\n",
       "      <th>Факт</th>\n",
       "      <th>Fitted</th>\n",
       "      <th>Остаток</th>\n",
       "    </tr>\n",
       "  </thead>\n",
       "  <tbody>\n",
       "    <tr>\n",
       "      <th>0</th>\n",
       "      <td>1</td>\n",
       "      <td>3113</td>\n",
       "      <td>3061.481</td>\n",
       "      <td>51.519</td>\n",
       "    </tr>\n",
       "    <tr>\n",
       "      <th>1</th>\n",
       "      <td>9</td>\n",
       "      <td>3018</td>\n",
       "      <td>3087.341</td>\n",
       "      <td>-69.341</td>\n",
       "    </tr>\n",
       "    <tr>\n",
       "      <th>2</th>\n",
       "      <td>45</td>\n",
       "      <td>3363</td>\n",
       "      <td>3268.521</td>\n",
       "      <td>94.479</td>\n",
       "    </tr>\n",
       "    <tr>\n",
       "      <th>3</th>\n",
       "      <td>187</td>\n",
       "      <td>3390</td>\n",
       "      <td>3228.976</td>\n",
       "      <td>161.024</td>\n",
       "    </tr>\n",
       "    <tr>\n",
       "      <th>4</th>\n",
       "      <td>280</td>\n",
       "      <td>2955</td>\n",
       "      <td>3399.060</td>\n",
       "      <td>-444.060</td>\n",
       "    </tr>\n",
       "  </tbody>\n",
       "</table>\n",
       "</div>"
      ],
      "text/plain": [
       "     i  Факт    Fitted  Остаток\n",
       "0    1  3113  3061.481   51.519\n",
       "1    9  3018  3087.341  -69.341\n",
       "2   45  3363  3268.521   94.479\n",
       "3  187  3390  3228.976  161.024\n",
       "4  280  2955  3399.060 -444.060"
      ]
     },
     "execution_count": 49,
     "metadata": {},
     "output_type": "execute_result"
    }
   ],
   "source": [
    "df=pd.read_csv(io.StringIO(data), sep='\\s+')\n",
    "df"
   ]
  },
  {
   "cell_type": "code",
   "execution_count": 50,
   "id": "5fa843ec",
   "metadata": {},
   "outputs": [
    {
     "data": {
      "text/plain": [
       "0    3113\n",
       "1    3018\n",
       "2    3363\n",
       "3    3390\n",
       "4    2955\n",
       "Name: Факт, dtype: int64"
      ]
     },
     "execution_count": 50,
     "metadata": {},
     "output_type": "execute_result"
    }
   ],
   "source": [
    "df['Факт']"
   ]
  },
  {
   "cell_type": "code",
   "execution_count": 51,
   "id": "f281fe38",
   "metadata": {},
   "outputs": [
    {
     "data": {
      "text/plain": [
       "3167.8"
      ]
     },
     "execution_count": 51,
     "metadata": {},
     "output_type": "execute_result"
    }
   ],
   "source": [
    "df['Факт'].mean()"
   ]
  },
  {
   "cell_type": "code",
   "execution_count": 52,
   "id": "cc0a08b6",
   "metadata": {},
   "outputs": [
    {
     "data": {
      "text/plain": [
       "0     3003.04\n",
       "1    22440.04\n",
       "2    38103.04\n",
       "3    49372.84\n",
       "4    45283.84\n",
       "Name: Факт, dtype: float64"
      ]
     },
     "execution_count": 52,
     "metadata": {},
     "output_type": "execute_result"
    }
   ],
   "source": [
    "tss_=(df['Факт']-df['Факт'].mean(0))**2\n",
    "tss_"
   ]
  },
  {
   "cell_type": "code",
   "execution_count": 53,
   "id": "0dffb0b5",
   "metadata": {},
   "outputs": [
    {
     "data": {
      "text/plain": [
       "158202.8"
      ]
     },
     "execution_count": 53,
     "metadata": {},
     "output_type": "execute_result"
    }
   ],
   "source": [
    "TSS=np.sum((df['Факт']-df['Факт'].mean())**2)\n",
    "TSS"
   ]
  },
  {
   "cell_type": "code",
   "execution_count": 54,
   "id": "1eccb3f8",
   "metadata": {},
   "outputs": [
    {
     "data": {
      "text/plain": [
       "0    3061.481\n",
       "1    3087.341\n",
       "2    3268.521\n",
       "3    3228.976\n",
       "4    3399.060\n",
       "Name: Fitted, dtype: float64"
      ]
     },
     "execution_count": 54,
     "metadata": {},
     "output_type": "execute_result"
    }
   ],
   "source": [
    "df['Fitted']"
   ]
  },
  {
   "cell_type": "code",
   "execution_count": 55,
   "id": "b6565429",
   "metadata": {},
   "outputs": [
    {
     "data": {
      "text/plain": [
       "3209.0758"
      ]
     },
     "execution_count": 55,
     "metadata": {},
     "output_type": "execute_result"
    }
   ],
   "source": [
    "df['Fitted'].mean(0)"
   ]
  },
  {
   "cell_type": "code",
   "execution_count": 56,
   "id": "e6ff0846",
   "metadata": {},
   "outputs": [
    {
     "data": {
      "text/plain": [
       "85145.79085899991"
      ]
     },
     "execution_count": 56,
     "metadata": {},
     "output_type": "execute_result"
    }
   ],
   "source": [
    "ESS=np.sum((df['Fitted']-df['Факт'].mean())**2)\n",
    "ESS"
   ]
  },
  {
   "cell_type": "code",
   "execution_count": 57,
   "id": "198a6569",
   "metadata": {},
   "outputs": [
    {
     "data": {
      "text/plain": [
       "73057.00914100008"
      ]
     },
     "execution_count": 57,
     "metadata": {},
     "output_type": "execute_result"
    }
   ],
   "source": [
    "RSS=TSS-ESS\n",
    "RSS"
   ]
  },
  {
   "cell_type": "code",
   "execution_count": 58,
   "id": "4cce152f",
   "metadata": {},
   "outputs": [
    {
     "data": {
      "text/plain": [
       "0.5382065984862463"
      ]
     },
     "execution_count": 58,
     "metadata": {},
     "output_type": "execute_result"
    }
   ],
   "source": [
    "R2=ESS/TSS\n",
    "R2"
   ]
  },
  {
   "cell_type": "code",
   "execution_count": 59,
   "id": "fa4c3676",
   "metadata": {},
   "outputs": [
    {
     "data": {
      "text/plain": [
       "0.5331871049915315"
      ]
     },
     "execution_count": 59,
     "metadata": {},
     "output_type": "execute_result"
    }
   ],
   "source": [
    "R2_adj=1-(1-R2)*(280-1)/(280-4)\n",
    "R2_adj"
   ]
  },
  {
   "cell_type": "code",
   "execution_count": 60,
   "id": "e3d2b23e",
   "metadata": {},
   "outputs": [
    {
     "data": {
      "text/plain": [
       "270.29060128128776"
      ]
     },
     "execution_count": 60,
     "metadata": {},
     "output_type": "execute_result"
    }
   ],
   "source": [
    "SER=np.sqrt(RSS)\n",
    "SER"
   ]
  },
  {
   "cell_type": "markdown",
   "id": "d958828d",
   "metadata": {},
   "source": [
    "# 3.4"
   ]
  },
  {
   "cell_type": "code",
   "execution_count": 61,
   "id": "f0ee299f",
   "metadata": {},
   "outputs": [
    {
     "data": {
      "text/plain": [
       "'i   Факт  Fitted  Остаток \\n1   3083 2945.903 137.097 \\n9   2858 2920.662 -62.662 \\n45  3730 3328.629 401.371 \\n187 3376 3503.722 -127.722\\n280 3405 3215.073 189.927'"
      ]
     },
     "execution_count": 61,
     "metadata": {},
     "output_type": "execute_result"
    }
   ],
   "source": [
    "data='''i   Факт  Fitted  Остаток \n",
    "1   3083 2945.903 137.097 \n",
    "9   2858 2920.662 -62.662 \n",
    "45  3730 3328.629 401.371 \n",
    "187 3376 3503.722 -127.722\n",
    "280 3405 3215.073 189.927'''\n",
    "data"
   ]
  },
  {
   "cell_type": "code",
   "execution_count": 62,
   "id": "b3786caf",
   "metadata": {},
   "outputs": [
    {
     "data": {
      "text/html": [
       "<div>\n",
       "<style scoped>\n",
       "    .dataframe tbody tr th:only-of-type {\n",
       "        vertical-align: middle;\n",
       "    }\n",
       "\n",
       "    .dataframe tbody tr th {\n",
       "        vertical-align: top;\n",
       "    }\n",
       "\n",
       "    .dataframe thead th {\n",
       "        text-align: right;\n",
       "    }\n",
       "</style>\n",
       "<table border=\"1\" class=\"dataframe\">\n",
       "  <thead>\n",
       "    <tr style=\"text-align: right;\">\n",
       "      <th></th>\n",
       "      <th>i</th>\n",
       "      <th>Факт</th>\n",
       "      <th>Fitted</th>\n",
       "      <th>Остаток</th>\n",
       "    </tr>\n",
       "  </thead>\n",
       "  <tbody>\n",
       "    <tr>\n",
       "      <th>0</th>\n",
       "      <td>1</td>\n",
       "      <td>3083</td>\n",
       "      <td>2945.903</td>\n",
       "      <td>137.097</td>\n",
       "    </tr>\n",
       "    <tr>\n",
       "      <th>1</th>\n",
       "      <td>9</td>\n",
       "      <td>2858</td>\n",
       "      <td>2920.662</td>\n",
       "      <td>-62.662</td>\n",
       "    </tr>\n",
       "    <tr>\n",
       "      <th>2</th>\n",
       "      <td>45</td>\n",
       "      <td>3730</td>\n",
       "      <td>3328.629</td>\n",
       "      <td>401.371</td>\n",
       "    </tr>\n",
       "    <tr>\n",
       "      <th>3</th>\n",
       "      <td>187</td>\n",
       "      <td>3376</td>\n",
       "      <td>3503.722</td>\n",
       "      <td>-127.722</td>\n",
       "    </tr>\n",
       "    <tr>\n",
       "      <th>4</th>\n",
       "      <td>280</td>\n",
       "      <td>3405</td>\n",
       "      <td>3215.073</td>\n",
       "      <td>189.927</td>\n",
       "    </tr>\n",
       "  </tbody>\n",
       "</table>\n",
       "</div>"
      ],
      "text/plain": [
       "     i  Факт    Fitted  Остаток\n",
       "0    1  3083  2945.903  137.097\n",
       "1    9  2858  2920.662  -62.662\n",
       "2   45  3730  3328.629  401.371\n",
       "3  187  3376  3503.722 -127.722\n",
       "4  280  3405  3215.073  189.927"
      ]
     },
     "execution_count": 62,
     "metadata": {},
     "output_type": "execute_result"
    }
   ],
   "source": [
    "df=pd.read_csv(io.StringIO(data), sep='\\s+')\n",
    "df"
   ]
  },
  {
   "cell_type": "code",
   "execution_count": 63,
   "id": "fedb1e4b",
   "metadata": {},
   "outputs": [
    {
     "data": {
      "text/plain": [
       "0    3083\n",
       "1    2858\n",
       "2    3730\n",
       "3    3376\n",
       "4    3405\n",
       "Name: Факт, dtype: int64"
      ]
     },
     "execution_count": 63,
     "metadata": {},
     "output_type": "execute_result"
    }
   ],
   "source": [
    "df['Факт']"
   ]
  },
  {
   "cell_type": "code",
   "execution_count": 64,
   "id": "2109cc14",
   "metadata": {},
   "outputs": [
    {
     "data": {
      "text/plain": [
       "3290.4"
      ]
     },
     "execution_count": 64,
     "metadata": {},
     "output_type": "execute_result"
    }
   ],
   "source": [
    "df['Факт'].mean()"
   ]
  },
  {
   "cell_type": "code",
   "execution_count": 65,
   "id": "304668ad",
   "metadata": {},
   "outputs": [
    {
     "data": {
      "text/plain": [
       "0     43014.76\n",
       "1    186969.76\n",
       "2    193248.16\n",
       "3      7327.36\n",
       "4     13133.16\n",
       "Name: Факт, dtype: float64"
      ]
     },
     "execution_count": 65,
     "metadata": {},
     "output_type": "execute_result"
    }
   ],
   "source": [
    "tss_=(df['Факт']-df['Факт'].mean(0))**2\n",
    "tss_"
   ]
  },
  {
   "cell_type": "code",
   "execution_count": 66,
   "id": "d6f9ed23",
   "metadata": {},
   "outputs": [
    {
     "data": {
      "text/plain": [
       "443693.2"
      ]
     },
     "execution_count": 66,
     "metadata": {},
     "output_type": "execute_result"
    }
   ],
   "source": [
    "TSS=np.sum((df['Факт']-df['Факт'].mean())**2)\n",
    "TSS"
   ]
  },
  {
   "cell_type": "code",
   "execution_count": 67,
   "id": "3a5da3a7",
   "metadata": {},
   "outputs": [
    {
     "data": {
      "text/plain": [
       "0    2945.903\n",
       "1    2920.662\n",
       "2    3328.629\n",
       "3    3503.722\n",
       "4    3215.073\n",
       "Name: Fitted, dtype: float64"
      ]
     },
     "execution_count": 67,
     "metadata": {},
     "output_type": "execute_result"
    }
   ],
   "source": [
    "df['Fitted']"
   ]
  },
  {
   "cell_type": "code",
   "execution_count": 68,
   "id": "def31e7d",
   "metadata": {},
   "outputs": [
    {
     "data": {
      "text/plain": [
       "3182.7978"
      ]
     },
     "execution_count": 68,
     "metadata": {},
     "output_type": "execute_result"
    }
   ],
   "source": [
    "df['Fitted'].mean(0)"
   ]
  },
  {
   "cell_type": "code",
   "execution_count": 69,
   "id": "66bb18a6",
   "metadata": {},
   "outputs": [
    {
     "data": {
      "text/plain": [
       "308026.2607070005"
      ]
     },
     "execution_count": 69,
     "metadata": {},
     "output_type": "execute_result"
    }
   ],
   "source": [
    "ESS=np.sum((df['Fitted']-df['Факт'].mean())**2)\n",
    "ESS"
   ]
  },
  {
   "cell_type": "code",
   "execution_count": 70,
   "id": "42070068",
   "metadata": {},
   "outputs": [
    {
     "data": {
      "text/plain": [
       "135666.9392929995"
      ]
     },
     "execution_count": 70,
     "metadata": {},
     "output_type": "execute_result"
    }
   ],
   "source": [
    "RSS=TSS-ESS\n",
    "RSS"
   ]
  },
  {
   "cell_type": "code",
   "execution_count": 71,
   "id": "b5b9b67a",
   "metadata": {},
   "outputs": [
    {
     "data": {
      "text/plain": [
       "0.6942325478664098"
      ]
     },
     "execution_count": 71,
     "metadata": {},
     "output_type": "execute_result"
    }
   ],
   "source": [
    "R2=ESS/TSS\n",
    "R2"
   ]
  },
  {
   "cell_type": "code",
   "execution_count": 72,
   "id": "5a780a38",
   "metadata": {},
   "outputs": [
    {
     "data": {
      "text/plain": [
       "0.6909089886040881"
      ]
     },
     "execution_count": 72,
     "metadata": {},
     "output_type": "execute_result"
    }
   ],
   "source": [
    "R2_adj=1-(1-R2)*(280-1)/(280-4)\n",
    "R2_adj"
   ]
  },
  {
   "cell_type": "code",
   "execution_count": 73,
   "id": "ef46d249",
   "metadata": {},
   "outputs": [
    {
     "data": {
      "text/plain": [
       "368.32993265956475"
      ]
     },
     "execution_count": 73,
     "metadata": {},
     "output_type": "execute_result"
    }
   ],
   "source": [
    "SER=np.sqrt(RSS)\n",
    "SER"
   ]
  },
  {
   "cell_type": "markdown",
   "id": "f461ebe8",
   "metadata": {},
   "source": [
    "# 3.5"
   ]
  },
  {
   "cell_type": "code",
   "execution_count": 74,
   "id": "dff38607",
   "metadata": {},
   "outputs": [
    {
     "data": {
      "text/plain": [
       "'i   Факт  Fitted Остаток\\n2   3.664 0.457   3.207 \\n11  3.246 5.666  -2.420 \\n24  2.666 -0.625  3.292 \\n101 2.181 6.952  -4.771 \\n349 4.307 2.278   2.029 \\n501 3.660 11.353 -7.694 '"
      ]
     },
     "execution_count": 74,
     "metadata": {},
     "output_type": "execute_result"
    }
   ],
   "source": [
    "data='''i   Факт  Fitted Остаток\n",
    "2   3.664 0.457   3.207 \n",
    "11  3.246 5.666  -2.420 \n",
    "24  2.666 -0.625  3.292 \n",
    "101 2.181 6.952  -4.771 \n",
    "349 4.307 2.278   2.029 \n",
    "501 3.660 11.353 -7.694 '''\n",
    "data"
   ]
  },
  {
   "cell_type": "code",
   "execution_count": 75,
   "id": "fbf18675",
   "metadata": {},
   "outputs": [
    {
     "data": {
      "text/html": [
       "<div>\n",
       "<style scoped>\n",
       "    .dataframe tbody tr th:only-of-type {\n",
       "        vertical-align: middle;\n",
       "    }\n",
       "\n",
       "    .dataframe tbody tr th {\n",
       "        vertical-align: top;\n",
       "    }\n",
       "\n",
       "    .dataframe thead th {\n",
       "        text-align: right;\n",
       "    }\n",
       "</style>\n",
       "<table border=\"1\" class=\"dataframe\">\n",
       "  <thead>\n",
       "    <tr style=\"text-align: right;\">\n",
       "      <th></th>\n",
       "      <th>i</th>\n",
       "      <th>Факт</th>\n",
       "      <th>Fitted</th>\n",
       "      <th>Остаток</th>\n",
       "    </tr>\n",
       "  </thead>\n",
       "  <tbody>\n",
       "    <tr>\n",
       "      <th>0</th>\n",
       "      <td>2</td>\n",
       "      <td>3.664</td>\n",
       "      <td>0.457</td>\n",
       "      <td>3.207</td>\n",
       "    </tr>\n",
       "    <tr>\n",
       "      <th>1</th>\n",
       "      <td>11</td>\n",
       "      <td>3.246</td>\n",
       "      <td>5.666</td>\n",
       "      <td>-2.420</td>\n",
       "    </tr>\n",
       "    <tr>\n",
       "      <th>2</th>\n",
       "      <td>24</td>\n",
       "      <td>2.666</td>\n",
       "      <td>-0.625</td>\n",
       "      <td>3.292</td>\n",
       "    </tr>\n",
       "    <tr>\n",
       "      <th>3</th>\n",
       "      <td>101</td>\n",
       "      <td>2.181</td>\n",
       "      <td>6.952</td>\n",
       "      <td>-4.771</td>\n",
       "    </tr>\n",
       "    <tr>\n",
       "      <th>4</th>\n",
       "      <td>349</td>\n",
       "      <td>4.307</td>\n",
       "      <td>2.278</td>\n",
       "      <td>2.029</td>\n",
       "    </tr>\n",
       "    <tr>\n",
       "      <th>5</th>\n",
       "      <td>501</td>\n",
       "      <td>3.660</td>\n",
       "      <td>11.353</td>\n",
       "      <td>-7.694</td>\n",
       "    </tr>\n",
       "  </tbody>\n",
       "</table>\n",
       "</div>"
      ],
      "text/plain": [
       "     i   Факт  Fitted  Остаток\n",
       "0    2  3.664   0.457    3.207\n",
       "1   11  3.246   5.666   -2.420\n",
       "2   24  2.666  -0.625    3.292\n",
       "3  101  2.181   6.952   -4.771\n",
       "4  349  4.307   2.278    2.029\n",
       "5  501  3.660  11.353   -7.694"
      ]
     },
     "execution_count": 75,
     "metadata": {},
     "output_type": "execute_result"
    }
   ],
   "source": [
    "df=pd.read_csv(io.StringIO(data), sep='\\s+')\n",
    "df"
   ]
  },
  {
   "cell_type": "code",
   "execution_count": 76,
   "id": "be4ac2cd",
   "metadata": {},
   "outputs": [
    {
     "data": {
      "text/plain": [
       "0    3.664\n",
       "1    3.246\n",
       "2    2.666\n",
       "3    2.181\n",
       "4    4.307\n",
       "5    3.660\n",
       "Name: Факт, dtype: float64"
      ]
     },
     "execution_count": 76,
     "metadata": {},
     "output_type": "execute_result"
    }
   ],
   "source": [
    "df['Факт']"
   ]
  },
  {
   "cell_type": "code",
   "execution_count": 77,
   "id": "ec46341b",
   "metadata": {},
   "outputs": [
    {
     "data": {
      "text/plain": [
       "3.287333333333333"
      ]
     },
     "execution_count": 77,
     "metadata": {},
     "output_type": "execute_result"
    }
   ],
   "source": [
    "df['Факт'].mean()"
   ]
  },
  {
   "cell_type": "code",
   "execution_count": 78,
   "id": "0f0279b5",
   "metadata": {},
   "outputs": [
    {
     "data": {
      "text/plain": [
       "0    0.141878\n",
       "1    0.001708\n",
       "2    0.386055\n",
       "3    1.223973\n",
       "4    1.039720\n",
       "5    0.138880\n",
       "Name: Факт, dtype: float64"
      ]
     },
     "execution_count": 78,
     "metadata": {},
     "output_type": "execute_result"
    }
   ],
   "source": [
    "tss_=(df['Факт']-df['Факт'].mean(0))**2\n",
    "tss_"
   ]
  },
  {
   "cell_type": "code",
   "execution_count": 79,
   "id": "ad15be0c",
   "metadata": {},
   "outputs": [
    {
     "data": {
      "text/plain": [
       "2.932215333333334"
      ]
     },
     "execution_count": 79,
     "metadata": {},
     "output_type": "execute_result"
    }
   ],
   "source": [
    "TSS=np.sum((df['Факт']-df['Факт'].mean())**2)\n",
    "TSS"
   ]
  },
  {
   "cell_type": "code",
   "execution_count": 80,
   "id": "29889158",
   "metadata": {},
   "outputs": [
    {
     "data": {
      "text/plain": [
       "0     0.457\n",
       "1     5.666\n",
       "2    -0.625\n",
       "3     6.952\n",
       "4     2.278\n",
       "5    11.353\n",
       "Name: Fitted, dtype: float64"
      ]
     },
     "execution_count": 80,
     "metadata": {},
     "output_type": "execute_result"
    }
   ],
   "source": [
    "df['Fitted']"
   ]
  },
  {
   "cell_type": "code",
   "execution_count": 81,
   "id": "fd69195c",
   "metadata": {},
   "outputs": [
    {
     "data": {
      "text/plain": [
       "108.47870833333333"
      ]
     },
     "execution_count": 81,
     "metadata": {},
     "output_type": "execute_result"
    }
   ],
   "source": [
    "ESS=np.sum((df['Fitted']-df['Факт'].mean())**2)\n",
    "ESS"
   ]
  },
  {
   "cell_type": "code",
   "execution_count": 82,
   "id": "ac6375e9",
   "metadata": {},
   "outputs": [
    {
     "data": {
      "text/plain": [
       "-105.546493"
      ]
     },
     "execution_count": 82,
     "metadata": {},
     "output_type": "execute_result"
    }
   ],
   "source": [
    "RSS=TSS-ESS\n",
    "RSS"
   ]
  },
  {
   "cell_type": "code",
   "execution_count": 83,
   "id": "d8897803",
   "metadata": {},
   "outputs": [
    {
     "data": {
      "text/plain": [
       "36.995478162927085"
      ]
     },
     "execution_count": 83,
     "metadata": {},
     "output_type": "execute_result"
    }
   ],
   "source": [
    "R2=ESS/TSS\n",
    "R2"
   ]
  },
  {
   "cell_type": "code",
   "execution_count": 84,
   "id": "40ef1b40",
   "metadata": {},
   "outputs": [
    {
     "data": {
      "text/plain": [
       "37.140038316191855"
      ]
     },
     "execution_count": 84,
     "metadata": {},
     "output_type": "execute_result"
    }
   ],
   "source": [
    "R2_adj=1-(1-R2)*(501-1)/(501-3)\n",
    "R2_adj"
   ]
  },
  {
   "cell_type": "markdown",
   "id": "8a0b4738",
   "metadata": {},
   "source": [
    "# 3.6"
   ]
  },
  {
   "cell_type": "code",
   "execution_count": 85,
   "id": "d68bf7ff",
   "metadata": {},
   "outputs": [
    {
     "data": {
      "text/plain": [
       "'i   Факт  Fitted Остаток\\n2   1.299 1.347  -0.049 \\n11  1.177 1.427  -0.250 \\n24  0.981 0.344   0.637 \\n101 0.780 1.006  -0.226 \\n349 1.460 1.177   0.283 \\n501 1.297 1.730  -0.433 '"
      ]
     },
     "execution_count": 85,
     "metadata": {},
     "output_type": "execute_result"
    }
   ],
   "source": [
    "data='''i   Факт  Fitted Остаток\n",
    "2   1.299 1.347  -0.049 \n",
    "11  1.177 1.427  -0.250 \n",
    "24  0.981 0.344   0.637 \n",
    "101 0.780 1.006  -0.226 \n",
    "349 1.460 1.177   0.283 \n",
    "501 1.297 1.730  -0.433 '''\n",
    "data"
   ]
  },
  {
   "cell_type": "code",
   "execution_count": 86,
   "id": "48e407df",
   "metadata": {},
   "outputs": [
    {
     "data": {
      "text/html": [
       "<div>\n",
       "<style scoped>\n",
       "    .dataframe tbody tr th:only-of-type {\n",
       "        vertical-align: middle;\n",
       "    }\n",
       "\n",
       "    .dataframe tbody tr th {\n",
       "        vertical-align: top;\n",
       "    }\n",
       "\n",
       "    .dataframe thead th {\n",
       "        text-align: right;\n",
       "    }\n",
       "</style>\n",
       "<table border=\"1\" class=\"dataframe\">\n",
       "  <thead>\n",
       "    <tr style=\"text-align: right;\">\n",
       "      <th></th>\n",
       "      <th>i</th>\n",
       "      <th>Факт</th>\n",
       "      <th>Fitted</th>\n",
       "      <th>Остаток</th>\n",
       "    </tr>\n",
       "  </thead>\n",
       "  <tbody>\n",
       "    <tr>\n",
       "      <th>0</th>\n",
       "      <td>2</td>\n",
       "      <td>1.299</td>\n",
       "      <td>1.347</td>\n",
       "      <td>-0.049</td>\n",
       "    </tr>\n",
       "    <tr>\n",
       "      <th>1</th>\n",
       "      <td>11</td>\n",
       "      <td>1.177</td>\n",
       "      <td>1.427</td>\n",
       "      <td>-0.250</td>\n",
       "    </tr>\n",
       "    <tr>\n",
       "      <th>2</th>\n",
       "      <td>24</td>\n",
       "      <td>0.981</td>\n",
       "      <td>0.344</td>\n",
       "      <td>0.637</td>\n",
       "    </tr>\n",
       "    <tr>\n",
       "      <th>3</th>\n",
       "      <td>101</td>\n",
       "      <td>0.780</td>\n",
       "      <td>1.006</td>\n",
       "      <td>-0.226</td>\n",
       "    </tr>\n",
       "    <tr>\n",
       "      <th>4</th>\n",
       "      <td>349</td>\n",
       "      <td>1.460</td>\n",
       "      <td>1.177</td>\n",
       "      <td>0.283</td>\n",
       "    </tr>\n",
       "    <tr>\n",
       "      <th>5</th>\n",
       "      <td>501</td>\n",
       "      <td>1.297</td>\n",
       "      <td>1.730</td>\n",
       "      <td>-0.433</td>\n",
       "    </tr>\n",
       "  </tbody>\n",
       "</table>\n",
       "</div>"
      ],
      "text/plain": [
       "     i   Факт  Fitted  Остаток\n",
       "0    2  1.299   1.347   -0.049\n",
       "1   11  1.177   1.427   -0.250\n",
       "2   24  0.981   0.344    0.637\n",
       "3  101  0.780   1.006   -0.226\n",
       "4  349  1.460   1.177    0.283\n",
       "5  501  1.297   1.730   -0.433"
      ]
     },
     "execution_count": 86,
     "metadata": {},
     "output_type": "execute_result"
    }
   ],
   "source": [
    "df=pd.read_csv(io.StringIO(data), sep='\\s+')\n",
    "df"
   ]
  },
  {
   "cell_type": "code",
   "execution_count": 87,
   "id": "731c42ef",
   "metadata": {},
   "outputs": [
    {
     "data": {
      "text/plain": [
       "0    1.299\n",
       "1    1.177\n",
       "2    0.981\n",
       "3    0.780\n",
       "4    1.460\n",
       "5    1.297\n",
       "Name: Факт, dtype: float64"
      ]
     },
     "execution_count": 87,
     "metadata": {},
     "output_type": "execute_result"
    }
   ],
   "source": [
    "df['Факт']"
   ]
  },
  {
   "cell_type": "code",
   "execution_count": 88,
   "id": "2ab62b81",
   "metadata": {},
   "outputs": [
    {
     "data": {
      "text/plain": [
       "1.1656666666666666"
      ]
     },
     "execution_count": 88,
     "metadata": {},
     "output_type": "execute_result"
    }
   ],
   "source": [
    "df['Факт'].mean()"
   ]
  },
  {
   "cell_type": "code",
   "execution_count": 89,
   "id": "0665baef",
   "metadata": {},
   "outputs": [
    {
     "data": {
      "text/plain": [
       "0    0.017778\n",
       "1    0.000128\n",
       "2    0.034102\n",
       "3    0.148739\n",
       "4    0.086632\n",
       "5    0.017248\n",
       "Name: Факт, dtype: float64"
      ]
     },
     "execution_count": 89,
     "metadata": {},
     "output_type": "execute_result"
    }
   ],
   "source": [
    "tss_=(df['Факт']-df['Факт'].mean(0))**2\n",
    "tss_"
   ]
  },
  {
   "cell_type": "code",
   "execution_count": 90,
   "id": "20e6adca",
   "metadata": {},
   "outputs": [
    {
     "data": {
      "text/plain": [
       "0.3046273333333333"
      ]
     },
     "execution_count": 90,
     "metadata": {},
     "output_type": "execute_result"
    }
   ],
   "source": [
    "TSS=np.sum((df['Факт']-df['Факт'].mean())**2)\n",
    "TSS"
   ]
  },
  {
   "cell_type": "code",
   "execution_count": 91,
   "id": "92b0a862",
   "metadata": {},
   "outputs": [
    {
     "data": {
      "text/plain": [
       "0    1.347\n",
       "1    1.427\n",
       "2    0.344\n",
       "3    1.006\n",
       "4    1.177\n",
       "5    1.730\n",
       "Name: Fitted, dtype: float64"
      ]
     },
     "execution_count": 91,
     "metadata": {},
     "output_type": "execute_result"
    }
   ],
   "source": [
    "df['Fitted']"
   ]
  },
  {
   "cell_type": "code",
   "execution_count": 92,
   "id": "8051a22a",
   "metadata": {},
   "outputs": [
    {
     "data": {
      "text/plain": [
       "1.1204070000000002"
      ]
     },
     "execution_count": 92,
     "metadata": {},
     "output_type": "execute_result"
    }
   ],
   "source": [
    "ESS=np.sum((df['Fitted']-df['Факт'].mean())**2)\n",
    "ESS"
   ]
  },
  {
   "cell_type": "code",
   "execution_count": 93,
   "id": "eca28963",
   "metadata": {},
   "outputs": [
    {
     "data": {
      "text/plain": [
       "-0.8157796666666668"
      ]
     },
     "execution_count": 93,
     "metadata": {},
     "output_type": "execute_result"
    }
   ],
   "source": [
    "RSS=TSS-ESS\n",
    "RSS"
   ]
  },
  {
   "cell_type": "code",
   "execution_count": 94,
   "id": "38ff8ea6",
   "metadata": {},
   "outputs": [
    {
     "data": {
      "text/plain": [
       "3.677959517749557"
      ]
     },
     "execution_count": 94,
     "metadata": {},
     "output_type": "execute_result"
    }
   ],
   "source": [
    "R2=ESS/TSS\n",
    "R2"
   ]
  },
  {
   "cell_type": "code",
   "execution_count": 95,
   "id": "959fede2",
   "metadata": {},
   "outputs": [
    {
     "data": {
      "text/plain": [
       "3.6887143752505596"
      ]
     },
     "execution_count": 95,
     "metadata": {},
     "output_type": "execute_result"
    }
   ],
   "source": [
    "R2_adj=1-(1-R2)*(501-1)/(501-3)\n",
    "R2_adj"
   ]
  },
  {
   "cell_type": "markdown",
   "id": "77b957e1",
   "metadata": {},
   "source": [
    "# 3.7"
   ]
  },
  {
   "cell_type": "code",
   "execution_count": 96,
   "id": "ffb5f587",
   "metadata": {},
   "outputs": [
    {
     "data": {
      "text/plain": [
       "'i   Факт  Fitted Остаток\\n2  3.043  -2.512  5.555 \\n17 5.597  2.747   2.850 \\n29 7.439  -2.269  9.709 \\n48 28.786 34.228 -5.442 \\n58 41.902 43.941 -2.040 \\n94 9.467  -4.009 13.477 '"
      ]
     },
     "execution_count": 96,
     "metadata": {},
     "output_type": "execute_result"
    }
   ],
   "source": [
    "data='''i   Факт  Fitted Остаток\n",
    "2  3.043  -2.512  5.555 \n",
    "17 5.597  2.747   2.850 \n",
    "29 7.439  -2.269  9.709 \n",
    "48 28.786 34.228 -5.442 \n",
    "58 41.902 43.941 -2.040 \n",
    "94 9.467  -4.009 13.477 '''\n",
    "data"
   ]
  },
  {
   "cell_type": "code",
   "execution_count": 97,
   "id": "e624a1a7",
   "metadata": {},
   "outputs": [
    {
     "data": {
      "text/html": [
       "<div>\n",
       "<style scoped>\n",
       "    .dataframe tbody tr th:only-of-type {\n",
       "        vertical-align: middle;\n",
       "    }\n",
       "\n",
       "    .dataframe tbody tr th {\n",
       "        vertical-align: top;\n",
       "    }\n",
       "\n",
       "    .dataframe thead th {\n",
       "        text-align: right;\n",
       "    }\n",
       "</style>\n",
       "<table border=\"1\" class=\"dataframe\">\n",
       "  <thead>\n",
       "    <tr style=\"text-align: right;\">\n",
       "      <th></th>\n",
       "      <th>i</th>\n",
       "      <th>Факт</th>\n",
       "      <th>Fitted</th>\n",
       "      <th>Остаток</th>\n",
       "    </tr>\n",
       "  </thead>\n",
       "  <tbody>\n",
       "    <tr>\n",
       "      <th>0</th>\n",
       "      <td>2</td>\n",
       "      <td>3.043</td>\n",
       "      <td>-2.512</td>\n",
       "      <td>5.555</td>\n",
       "    </tr>\n",
       "    <tr>\n",
       "      <th>1</th>\n",
       "      <td>17</td>\n",
       "      <td>5.597</td>\n",
       "      <td>2.747</td>\n",
       "      <td>2.850</td>\n",
       "    </tr>\n",
       "    <tr>\n",
       "      <th>2</th>\n",
       "      <td>29</td>\n",
       "      <td>7.439</td>\n",
       "      <td>-2.269</td>\n",
       "      <td>9.709</td>\n",
       "    </tr>\n",
       "    <tr>\n",
       "      <th>3</th>\n",
       "      <td>48</td>\n",
       "      <td>28.786</td>\n",
       "      <td>34.228</td>\n",
       "      <td>-5.442</td>\n",
       "    </tr>\n",
       "    <tr>\n",
       "      <th>4</th>\n",
       "      <td>58</td>\n",
       "      <td>41.902</td>\n",
       "      <td>43.941</td>\n",
       "      <td>-2.040</td>\n",
       "    </tr>\n",
       "    <tr>\n",
       "      <th>5</th>\n",
       "      <td>94</td>\n",
       "      <td>9.467</td>\n",
       "      <td>-4.009</td>\n",
       "      <td>13.477</td>\n",
       "    </tr>\n",
       "  </tbody>\n",
       "</table>\n",
       "</div>"
      ],
      "text/plain": [
       "    i    Факт  Fitted  Остаток\n",
       "0   2   3.043  -2.512    5.555\n",
       "1  17   5.597   2.747    2.850\n",
       "2  29   7.439  -2.269    9.709\n",
       "3  48  28.786  34.228   -5.442\n",
       "4  58  41.902  43.941   -2.040\n",
       "5  94   9.467  -4.009   13.477"
      ]
     },
     "execution_count": 97,
     "metadata": {},
     "output_type": "execute_result"
    }
   ],
   "source": [
    "df=pd.read_csv(io.StringIO(data), sep='\\s+')\n",
    "df"
   ]
  },
  {
   "cell_type": "code",
   "execution_count": 98,
   "id": "8b223bb5",
   "metadata": {},
   "outputs": [
    {
     "data": {
      "text/plain": [
       "0     3.043\n",
       "1     5.597\n",
       "2     7.439\n",
       "3    28.786\n",
       "4    41.902\n",
       "5     9.467\n",
       "Name: Факт, dtype: float64"
      ]
     },
     "execution_count": 98,
     "metadata": {},
     "output_type": "execute_result"
    }
   ],
   "source": [
    "df['Факт']"
   ]
  },
  {
   "cell_type": "code",
   "execution_count": 99,
   "id": "1c3d0319",
   "metadata": {},
   "outputs": [
    {
     "data": {
      "text/plain": [
       "16.038999999999998"
      ]
     },
     "execution_count": 99,
     "metadata": {},
     "output_type": "execute_result"
    }
   ],
   "source": [
    "df['Факт'].mean()"
   ]
  },
  {
   "cell_type": "code",
   "execution_count": 100,
   "id": "72de95c6",
   "metadata": {},
   "outputs": [
    {
     "data": {
      "text/plain": [
       "0    168.896016\n",
       "1    109.035364\n",
       "2     73.960000\n",
       "3    162.486009\n",
       "4    668.894769\n",
       "5     43.191184\n",
       "Name: Факт, dtype: float64"
      ]
     },
     "execution_count": 100,
     "metadata": {},
     "output_type": "execute_result"
    }
   ],
   "source": [
    "tss_=(df['Факт']-df['Факт'].mean(0))**2\n",
    "tss_"
   ]
  },
  {
   "cell_type": "code",
   "execution_count": 101,
   "id": "23dfc298",
   "metadata": {},
   "outputs": [
    {
     "data": {
      "text/plain": [
       "1226.4633420000002"
      ]
     },
     "execution_count": 101,
     "metadata": {},
     "output_type": "execute_result"
    }
   ],
   "source": [
    "TSS=np.sum((df['Факт']-df['Факт'].mean())**2)\n",
    "TSS"
   ]
  },
  {
   "cell_type": "code",
   "execution_count": 102,
   "id": "fffb5f6d",
   "metadata": {},
   "outputs": [
    {
     "data": {
      "text/plain": [
       "0    -2.512\n",
       "1     2.747\n",
       "2    -2.269\n",
       "3    34.228\n",
       "4    43.941\n",
       "5    -4.009\n",
       "Name: Fitted, dtype: float64"
      ]
     },
     "execution_count": 102,
     "metadata": {},
     "output_type": "execute_result"
    }
   ],
   "source": [
    "df['Fitted']"
   ]
  },
  {
   "cell_type": "code",
   "execution_count": 103,
   "id": "a616c65d",
   "metadata": {},
   "outputs": [
    {
     "data": {
      "text/plain": [
       "2367.283358"
      ]
     },
     "execution_count": 103,
     "metadata": {},
     "output_type": "execute_result"
    }
   ],
   "source": [
    "ESS=np.sum((df['Fitted']-df['Факт'].mean())**2)\n",
    "ESS"
   ]
  },
  {
   "cell_type": "code",
   "execution_count": 104,
   "id": "888ee8f4",
   "metadata": {},
   "outputs": [
    {
     "data": {
      "text/plain": [
       "-1140.820016"
      ]
     },
     "execution_count": 104,
     "metadata": {},
     "output_type": "execute_result"
    }
   ],
   "source": [
    "RSS=TSS-ESS\n",
    "RSS"
   ]
  },
  {
   "cell_type": "code",
   "execution_count": 105,
   "id": "274a122a",
   "metadata": {},
   "outputs": [
    {
     "data": {
      "text/plain": [
       "1.9301704966898225"
      ]
     },
     "execution_count": 105,
     "metadata": {},
     "output_type": "execute_result"
    }
   ],
   "source": [
    "R2=ESS/TSS\n",
    "R2"
   ]
  },
  {
   "cell_type": "code",
   "execution_count": 106,
   "id": "443f9305",
   "metadata": {},
   "outputs": [
    {
     "data": {
      "text/plain": [
       "1.9719759122713878"
      ]
     },
     "execution_count": 106,
     "metadata": {},
     "output_type": "execute_result"
    }
   ],
   "source": [
    "R2_adj=1-(1-R2)*(94-1)/(94-5)\n",
    "R2_adj"
   ]
  },
  {
   "cell_type": "markdown",
   "id": "19e9c2c2",
   "metadata": {},
   "source": [
    "# 3.8"
   ]
  },
  {
   "cell_type": "code",
   "execution_count": 107,
   "id": "30e61b40",
   "metadata": {},
   "outputs": [
    {
     "data": {
      "text/plain": [
       "'i  Факт  Fitted Остаток\\n2  1.113 1.452  -0.339 \\n17 1.722 1.650   0.072 \\n29 2.007 1.784   0.223 \\n48 3.360 3.556  -0.196 \\n58 3.735 3.846  -0.111 \\n94 2.248 2.247   0.001'"
      ]
     },
     "execution_count": 107,
     "metadata": {},
     "output_type": "execute_result"
    }
   ],
   "source": [
    "data='''i  Факт  Fitted Остаток\n",
    "2  1.113 1.452  -0.339 \n",
    "17 1.722 1.650   0.072 \n",
    "29 2.007 1.784   0.223 \n",
    "48 3.360 3.556  -0.196 \n",
    "58 3.735 3.846  -0.111 \n",
    "94 2.248 2.247   0.001'''\n",
    "data"
   ]
  },
  {
   "cell_type": "code",
   "execution_count": 108,
   "id": "68f2ed52",
   "metadata": {},
   "outputs": [
    {
     "data": {
      "text/html": [
       "<div>\n",
       "<style scoped>\n",
       "    .dataframe tbody tr th:only-of-type {\n",
       "        vertical-align: middle;\n",
       "    }\n",
       "\n",
       "    .dataframe tbody tr th {\n",
       "        vertical-align: top;\n",
       "    }\n",
       "\n",
       "    .dataframe thead th {\n",
       "        text-align: right;\n",
       "    }\n",
       "</style>\n",
       "<table border=\"1\" class=\"dataframe\">\n",
       "  <thead>\n",
       "    <tr style=\"text-align: right;\">\n",
       "      <th></th>\n",
       "      <th>i</th>\n",
       "      <th>Факт</th>\n",
       "      <th>Fitted</th>\n",
       "      <th>Остаток</th>\n",
       "    </tr>\n",
       "  </thead>\n",
       "  <tbody>\n",
       "    <tr>\n",
       "      <th>0</th>\n",
       "      <td>2</td>\n",
       "      <td>1.113</td>\n",
       "      <td>1.452</td>\n",
       "      <td>-0.339</td>\n",
       "    </tr>\n",
       "    <tr>\n",
       "      <th>1</th>\n",
       "      <td>17</td>\n",
       "      <td>1.722</td>\n",
       "      <td>1.650</td>\n",
       "      <td>0.072</td>\n",
       "    </tr>\n",
       "    <tr>\n",
       "      <th>2</th>\n",
       "      <td>29</td>\n",
       "      <td>2.007</td>\n",
       "      <td>1.784</td>\n",
       "      <td>0.223</td>\n",
       "    </tr>\n",
       "    <tr>\n",
       "      <th>3</th>\n",
       "      <td>48</td>\n",
       "      <td>3.360</td>\n",
       "      <td>3.556</td>\n",
       "      <td>-0.196</td>\n",
       "    </tr>\n",
       "    <tr>\n",
       "      <th>4</th>\n",
       "      <td>58</td>\n",
       "      <td>3.735</td>\n",
       "      <td>3.846</td>\n",
       "      <td>-0.111</td>\n",
       "    </tr>\n",
       "    <tr>\n",
       "      <th>5</th>\n",
       "      <td>94</td>\n",
       "      <td>2.248</td>\n",
       "      <td>2.247</td>\n",
       "      <td>0.001</td>\n",
       "    </tr>\n",
       "  </tbody>\n",
       "</table>\n",
       "</div>"
      ],
      "text/plain": [
       "    i   Факт  Fitted  Остаток\n",
       "0   2  1.113   1.452   -0.339\n",
       "1  17  1.722   1.650    0.072\n",
       "2  29  2.007   1.784    0.223\n",
       "3  48  3.360   3.556   -0.196\n",
       "4  58  3.735   3.846   -0.111\n",
       "5  94  2.248   2.247    0.001"
      ]
     },
     "execution_count": 108,
     "metadata": {},
     "output_type": "execute_result"
    }
   ],
   "source": [
    "df=pd.read_csv(io.StringIO(data), sep='\\s+')\n",
    "df"
   ]
  },
  {
   "cell_type": "code",
   "execution_count": 109,
   "id": "cea30f69",
   "metadata": {},
   "outputs": [
    {
     "data": {
      "text/plain": [
       "0    1.113\n",
       "1    1.722\n",
       "2    2.007\n",
       "3    3.360\n",
       "4    3.735\n",
       "5    2.248\n",
       "Name: Факт, dtype: float64"
      ]
     },
     "execution_count": 109,
     "metadata": {},
     "output_type": "execute_result"
    }
   ],
   "source": [
    "df['Факт']"
   ]
  },
  {
   "cell_type": "code",
   "execution_count": 110,
   "id": "2c4b6c0a",
   "metadata": {},
   "outputs": [
    {
     "data": {
      "text/plain": [
       "2.3641666666666663"
      ]
     },
     "execution_count": 110,
     "metadata": {},
     "output_type": "execute_result"
    }
   ],
   "source": [
    "df['Факт'].mean()"
   ]
  },
  {
   "cell_type": "code",
   "execution_count": 111,
   "id": "5d94d6f5",
   "metadata": {},
   "outputs": [
    {
     "data": {
      "text/plain": [
       "0    1.565418\n",
       "1    0.412378\n",
       "2    0.127568\n",
       "3    0.991684\n",
       "4    1.879184\n",
       "5    0.013495\n",
       "Name: Факт, dtype: float64"
      ]
     },
     "execution_count": 111,
     "metadata": {},
     "output_type": "execute_result"
    }
   ],
   "source": [
    "tss_=(df['Факт']-df['Факт'].mean(0))**2\n",
    "tss_"
   ]
  },
  {
   "cell_type": "code",
   "execution_count": 112,
   "id": "52624a7f",
   "metadata": {},
   "outputs": [
    {
     "data": {
      "text/plain": [
       "4.989726833333333"
      ]
     },
     "execution_count": 112,
     "metadata": {},
     "output_type": "execute_result"
    }
   ],
   "source": [
    "TSS=np.sum((df['Факт']-df['Факт'].mean())**2)\n",
    "TSS"
   ]
  },
  {
   "cell_type": "code",
   "execution_count": 113,
   "id": "732d18df",
   "metadata": {},
   "outputs": [
    {
     "data": {
      "text/plain": [
       "0    1.452\n",
       "1    1.650\n",
       "2    1.784\n",
       "3    3.556\n",
       "4    3.846\n",
       "5    2.247\n",
       "Name: Fitted, dtype: float64"
      ]
     },
     "execution_count": 113,
     "metadata": {},
     "output_type": "execute_result"
    }
   ],
   "source": [
    "df['Fitted']"
   ]
  },
  {
   "cell_type": "code",
   "execution_count": 114,
   "id": "6fbc11fd",
   "metadata": {},
   "outputs": [
    {
     "data": {
      "text/plain": [
       "5.308700166666668"
      ]
     },
     "execution_count": 114,
     "metadata": {},
     "output_type": "execute_result"
    }
   ],
   "source": [
    "ESS=np.sum((df['Fitted']-df['Факт'].mean())**2)\n",
    "ESS"
   ]
  },
  {
   "cell_type": "code",
   "execution_count": 115,
   "id": "15b89dff",
   "metadata": {},
   "outputs": [
    {
     "data": {
      "text/plain": [
       "-0.3189733333333349"
      ]
     },
     "execution_count": 115,
     "metadata": {},
     "output_type": "execute_result"
    }
   ],
   "source": [
    "RSS=TSS-ESS\n",
    "RSS"
   ]
  },
  {
   "cell_type": "code",
   "execution_count": 116,
   "id": "f146900b",
   "metadata": {},
   "outputs": [
    {
     "data": {
      "text/plain": [
       "1.0639260111801048"
      ]
     },
     "execution_count": 116,
     "metadata": {},
     "output_type": "execute_result"
    }
   ],
   "source": [
    "R2=ESS/TSS\n",
    "R2"
   ]
  },
  {
   "cell_type": "code",
   "execution_count": 117,
   "id": "4dfbf06b",
   "metadata": {},
   "outputs": [
    {
     "data": {
      "text/plain": [
       "1.0667990903342668"
      ]
     },
     "execution_count": 117,
     "metadata": {},
     "output_type": "execute_result"
    }
   ],
   "source": [
    "R2_adj=1-(1-R2)*(94-1)/(94-5)\n",
    "R2_adj"
   ]
  },
  {
   "cell_type": "code",
   "execution_count": null,
   "id": "e5141484",
   "metadata": {},
   "outputs": [],
   "source": []
  }
 ],
 "metadata": {
  "kernelspec": {
   "display_name": "Python 3 (ipykernel)",
   "language": "python",
   "name": "python3"
  },
  "language_info": {
   "codemirror_mode": {
    "name": "ipython",
    "version": 3
   },
   "file_extension": ".py",
   "mimetype": "text/x-python",
   "name": "python",
   "nbconvert_exporter": "python",
   "pygments_lexer": "ipython3",
   "version": "3.9.7"
  }
 },
 "nbformat": 4,
 "nbformat_minor": 5
}
