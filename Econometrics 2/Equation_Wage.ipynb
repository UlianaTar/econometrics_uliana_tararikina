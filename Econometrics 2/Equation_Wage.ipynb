{
 "cells": [
  {
   "cell_type": "markdown",
   "id": "f47db4fe",
   "metadata": {},
   "source": [
    "# Задачи по Эконометрике: Интерпретация коэффициентов\n",
    "# Wage Equation"
   ]
  },
  {
   "cell_type": "markdown",
   "id": "5e83ef11",
   "metadata": {},
   "source": [
    "## Wage Equation (Модель 1)\n",
    "\n",
    "На датасете `wage2` рассмотрим регрессию **log(wage) на age, IQ**\n",
    "\n",
    "Спецификация: $log(wage)=\\beta_0+\\beta_1age+\\beta_2IQ+u$"
   ]
  },
  {
   "cell_type": "code",
   "execution_count": 2,
   "id": "f5321b89",
   "metadata": {},
   "outputs": [],
   "source": [
    "import numpy as np # linear algebra \n",
    "import pandas as pd # data processing, CSV file I/O (e.g. pd.read_csv)\n",
    "# stats models: regression fitting via formulas\n",
    "import statsmodels.formula.api as smf\n",
    "# stats models: regression fitting via matrices of regression design\n",
    "import statsmodels.api as sm"
   ]
  },
  {
   "cell_type": "code",
   "execution_count": 4,
   "id": "5bfe2ba0",
   "metadata": {},
   "outputs": [
    {
     "data": {
      "text/html": [
       "<div>\n",
       "<style scoped>\n",
       "    .dataframe tbody tr th:only-of-type {\n",
       "        vertical-align: middle;\n",
       "    }\n",
       "\n",
       "    .dataframe tbody tr th {\n",
       "        vertical-align: top;\n",
       "    }\n",
       "\n",
       "    .dataframe thead th {\n",
       "        text-align: right;\n",
       "    }\n",
       "</style>\n",
       "<table border=\"1\" class=\"dataframe\">\n",
       "  <thead>\n",
       "    <tr style=\"text-align: right;\">\n",
       "      <th></th>\n",
       "      <th>wage</th>\n",
       "      <th>hours</th>\n",
       "      <th>IQ</th>\n",
       "      <th>KWW</th>\n",
       "      <th>educ</th>\n",
       "      <th>exper</th>\n",
       "      <th>tenure</th>\n",
       "      <th>age</th>\n",
       "      <th>married</th>\n",
       "      <th>black</th>\n",
       "      <th>south</th>\n",
       "      <th>urban</th>\n",
       "      <th>sibs</th>\n",
       "      <th>brthord</th>\n",
       "      <th>meduc</th>\n",
       "      <th>feduc</th>\n",
       "      <th>lwage</th>\n",
       "    </tr>\n",
       "  </thead>\n",
       "  <tbody>\n",
       "    <tr>\n",
       "      <th>0</th>\n",
       "      <td>769</td>\n",
       "      <td>40</td>\n",
       "      <td>93</td>\n",
       "      <td>35</td>\n",
       "      <td>12</td>\n",
       "      <td>11</td>\n",
       "      <td>2</td>\n",
       "      <td>31</td>\n",
       "      <td>1</td>\n",
       "      <td>0</td>\n",
       "      <td>0</td>\n",
       "      <td>1</td>\n",
       "      <td>1</td>\n",
       "      <td>2.0</td>\n",
       "      <td>8.0</td>\n",
       "      <td>8.0</td>\n",
       "      <td>6.645091</td>\n",
       "    </tr>\n",
       "    <tr>\n",
       "      <th>1</th>\n",
       "      <td>808</td>\n",
       "      <td>50</td>\n",
       "      <td>119</td>\n",
       "      <td>41</td>\n",
       "      <td>18</td>\n",
       "      <td>11</td>\n",
       "      <td>16</td>\n",
       "      <td>37</td>\n",
       "      <td>1</td>\n",
       "      <td>0</td>\n",
       "      <td>0</td>\n",
       "      <td>1</td>\n",
       "      <td>1</td>\n",
       "      <td>NaN</td>\n",
       "      <td>14.0</td>\n",
       "      <td>14.0</td>\n",
       "      <td>6.694562</td>\n",
       "    </tr>\n",
       "    <tr>\n",
       "      <th>2</th>\n",
       "      <td>825</td>\n",
       "      <td>40</td>\n",
       "      <td>108</td>\n",
       "      <td>46</td>\n",
       "      <td>14</td>\n",
       "      <td>11</td>\n",
       "      <td>9</td>\n",
       "      <td>33</td>\n",
       "      <td>1</td>\n",
       "      <td>0</td>\n",
       "      <td>0</td>\n",
       "      <td>1</td>\n",
       "      <td>1</td>\n",
       "      <td>2.0</td>\n",
       "      <td>14.0</td>\n",
       "      <td>14.0</td>\n",
       "      <td>6.715384</td>\n",
       "    </tr>\n",
       "    <tr>\n",
       "      <th>3</th>\n",
       "      <td>650</td>\n",
       "      <td>40</td>\n",
       "      <td>96</td>\n",
       "      <td>32</td>\n",
       "      <td>12</td>\n",
       "      <td>13</td>\n",
       "      <td>7</td>\n",
       "      <td>32</td>\n",
       "      <td>1</td>\n",
       "      <td>0</td>\n",
       "      <td>0</td>\n",
       "      <td>1</td>\n",
       "      <td>4</td>\n",
       "      <td>3.0</td>\n",
       "      <td>12.0</td>\n",
       "      <td>12.0</td>\n",
       "      <td>6.476973</td>\n",
       "    </tr>\n",
       "    <tr>\n",
       "      <th>4</th>\n",
       "      <td>562</td>\n",
       "      <td>40</td>\n",
       "      <td>74</td>\n",
       "      <td>27</td>\n",
       "      <td>11</td>\n",
       "      <td>14</td>\n",
       "      <td>5</td>\n",
       "      <td>34</td>\n",
       "      <td>1</td>\n",
       "      <td>0</td>\n",
       "      <td>0</td>\n",
       "      <td>1</td>\n",
       "      <td>10</td>\n",
       "      <td>6.0</td>\n",
       "      <td>6.0</td>\n",
       "      <td>11.0</td>\n",
       "      <td>6.331502</td>\n",
       "    </tr>\n",
       "  </tbody>\n",
       "</table>\n",
       "</div>"
      ],
      "text/plain": [
       "   wage  hours   IQ  KWW  educ  exper  tenure  age  married  black  south  \\\n",
       "0   769     40   93   35    12     11       2   31        1      0      0   \n",
       "1   808     50  119   41    18     11      16   37        1      0      0   \n",
       "2   825     40  108   46    14     11       9   33        1      0      0   \n",
       "3   650     40   96   32    12     13       7   32        1      0      0   \n",
       "4   562     40   74   27    11     14       5   34        1      0      0   \n",
       "\n",
       "   urban  sibs  brthord  meduc  feduc     lwage  \n",
       "0      1     1      2.0    8.0    8.0  6.645091  \n",
       "1      1     1      NaN   14.0   14.0  6.694562  \n",
       "2      1     1      2.0   14.0   14.0  6.715384  \n",
       "3      1     4      3.0   12.0   12.0  6.476973  \n",
       "4      1    10      6.0    6.0   11.0  6.331502  "
      ]
     },
     "execution_count": 4,
     "metadata": {},
     "output_type": "execute_result"
    }
   ],
   "source": [
    "df = pd.read_csv('/Users/ulianatararikina/Downloads/Econometrica-master-2/python-notebooks/data-csv/wage2.csv')\n",
    "df.head()"
   ]
  },
  {
   "cell_type": "markdown",
   "id": "963adfa0",
   "metadata": {},
   "source": [
    "### Cпособ оценивания через спецификацию"
   ]
  },
  {
   "cell_type": "code",
   "execution_count": 7,
   "id": "17014574",
   "metadata": {},
   "outputs": [
    {
     "data": {
      "text/plain": [
       "Intercept    5.077\n",
       "age          0.024\n",
       "IQ           0.009\n",
       "dtype: float64"
      ]
     },
     "execution_count": 7,
     "metadata": {},
     "output_type": "execute_result"
    }
   ],
   "source": [
    "# специфицируем модель через формулу\n",
    "wage_eq1 = smf.ols(formula='np.log(wage)~age+IQ', data=df).fit()\n",
    "# Коэфициенты модели с округление\n",
    "wage_eq1.params.round(3)"
   ]
  },
  {
   "cell_type": "code",
   "execution_count": 11,
   "id": "7db1c37d",
   "metadata": {},
   "outputs": [
    {
     "data": {
      "text/plain": [
       "Intercept    5.077\n",
       "age          0.024\n",
       "IQ           0.009\n",
       "dtype: float64"
      ]
     },
     "execution_count": 11,
     "metadata": {},
     "output_type": "execute_result"
    }
   ],
   "source": [
    "# Альтеративно\n",
    "wage_eq2 = sm.OLS.from_formula(formula='lwage~age+IQ', data=df).fit()\n",
    "# Коэфициенты модели с округление\n",
    "wage_eq2.params.round(3)"
   ]
  },
  {
   "cell_type": "markdown",
   "id": "48ba5dfb",
   "metadata": {},
   "source": [
    "### Интерпретация модели\n",
    "1) Увеличение результата теста IQ на 1 балл прирощяет месячную зарплату на 0.9%\n",
    "2) Каждый год месячная зарплата человека в среднем увеличивается на 2.4%"
   ]
  },
  {
   "cell_type": "markdown",
   "id": "c439a68d",
   "metadata": {},
   "source": [
    "## Wage Equation (Модель 2)\n",
    "\n",
    "На датасете `wage2` рассмотрим региессию **log(wage) на age, IQ, south, urban, married, KWW**\n",
    "\n",
    "Спецификация: $log(wage)=\\beta_0+\\beta_1age+\\beta_2IQ+\\cdots+u$"
   ]
  },
  {
   "cell_type": "code",
   "execution_count": 14,
   "id": "867de1ec",
   "metadata": {},
   "outputs": [
    {
     "data": {
      "text/html": [
       "<div>\n",
       "<style scoped>\n",
       "    .dataframe tbody tr th:only-of-type {\n",
       "        vertical-align: middle;\n",
       "    }\n",
       "\n",
       "    .dataframe tbody tr th {\n",
       "        vertical-align: top;\n",
       "    }\n",
       "\n",
       "    .dataframe thead th {\n",
       "        text-align: right;\n",
       "    }\n",
       "</style>\n",
       "<table border=\"1\" class=\"dataframe\">\n",
       "  <thead>\n",
       "    <tr style=\"text-align: right;\">\n",
       "      <th></th>\n",
       "      <th>lwage</th>\n",
       "      <th>age</th>\n",
       "      <th>IQ</th>\n",
       "      <th>south</th>\n",
       "      <th>urban</th>\n",
       "      <th>married</th>\n",
       "      <th>KWW</th>\n",
       "    </tr>\n",
       "  </thead>\n",
       "  <tbody>\n",
       "    <tr>\n",
       "      <th>count</th>\n",
       "      <td>935.000000</td>\n",
       "      <td>935.000000</td>\n",
       "      <td>935.000000</td>\n",
       "      <td>935.000000</td>\n",
       "      <td>935.000000</td>\n",
       "      <td>935.000000</td>\n",
       "      <td>935.000000</td>\n",
       "    </tr>\n",
       "    <tr>\n",
       "      <th>mean</th>\n",
       "      <td>6.779004</td>\n",
       "      <td>33.080214</td>\n",
       "      <td>101.282353</td>\n",
       "      <td>0.341176</td>\n",
       "      <td>0.717647</td>\n",
       "      <td>0.893048</td>\n",
       "      <td>35.744385</td>\n",
       "    </tr>\n",
       "    <tr>\n",
       "      <th>std</th>\n",
       "      <td>0.421144</td>\n",
       "      <td>3.107803</td>\n",
       "      <td>15.052636</td>\n",
       "      <td>0.474358</td>\n",
       "      <td>0.450385</td>\n",
       "      <td>0.309217</td>\n",
       "      <td>7.638788</td>\n",
       "    </tr>\n",
       "    <tr>\n",
       "      <th>min</th>\n",
       "      <td>4.744932</td>\n",
       "      <td>28.000000</td>\n",
       "      <td>50.000000</td>\n",
       "      <td>0.000000</td>\n",
       "      <td>0.000000</td>\n",
       "      <td>0.000000</td>\n",
       "      <td>12.000000</td>\n",
       "    </tr>\n",
       "    <tr>\n",
       "      <th>25%</th>\n",
       "      <td>6.505783</td>\n",
       "      <td>30.000000</td>\n",
       "      <td>92.000000</td>\n",
       "      <td>0.000000</td>\n",
       "      <td>0.000000</td>\n",
       "      <td>1.000000</td>\n",
       "      <td>31.000000</td>\n",
       "    </tr>\n",
       "    <tr>\n",
       "      <th>50%</th>\n",
       "      <td>6.807935</td>\n",
       "      <td>33.000000</td>\n",
       "      <td>102.000000</td>\n",
       "      <td>0.000000</td>\n",
       "      <td>1.000000</td>\n",
       "      <td>1.000000</td>\n",
       "      <td>37.000000</td>\n",
       "    </tr>\n",
       "    <tr>\n",
       "      <th>75%</th>\n",
       "      <td>7.056175</td>\n",
       "      <td>36.000000</td>\n",
       "      <td>112.000000</td>\n",
       "      <td>1.000000</td>\n",
       "      <td>1.000000</td>\n",
       "      <td>1.000000</td>\n",
       "      <td>41.000000</td>\n",
       "    </tr>\n",
       "    <tr>\n",
       "      <th>max</th>\n",
       "      <td>8.032035</td>\n",
       "      <td>38.000000</td>\n",
       "      <td>145.000000</td>\n",
       "      <td>1.000000</td>\n",
       "      <td>1.000000</td>\n",
       "      <td>1.000000</td>\n",
       "      <td>56.000000</td>\n",
       "    </tr>\n",
       "  </tbody>\n",
       "</table>\n",
       "</div>"
      ],
      "text/plain": [
       "            lwage         age          IQ       south       urban     married  \\\n",
       "count  935.000000  935.000000  935.000000  935.000000  935.000000  935.000000   \n",
       "mean     6.779004   33.080214  101.282353    0.341176    0.717647    0.893048   \n",
       "std      0.421144    3.107803   15.052636    0.474358    0.450385    0.309217   \n",
       "min      4.744932   28.000000   50.000000    0.000000    0.000000    0.000000   \n",
       "25%      6.505783   30.000000   92.000000    0.000000    0.000000    1.000000   \n",
       "50%      6.807935   33.000000  102.000000    0.000000    1.000000    1.000000   \n",
       "75%      7.056175   36.000000  112.000000    1.000000    1.000000    1.000000   \n",
       "max      8.032035   38.000000  145.000000    1.000000    1.000000    1.000000   \n",
       "\n",
       "              KWW  \n",
       "count  935.000000  \n",
       "mean    35.744385  \n",
       "std      7.638788  \n",
       "min     12.000000  \n",
       "25%     31.000000  \n",
       "50%     37.000000  \n",
       "75%     41.000000  \n",
       "max     56.000000  "
      ]
     },
     "execution_count": 14,
     "metadata": {},
     "output_type": "execute_result"
    }
   ],
   "source": [
    "# Описательные статистики по переменным модели\n",
    "df[['lwage', 'age', 'IQ', 'south', 'urban', 'married', 'KWW']].describe()"
   ]
  },
  {
   "cell_type": "markdown",
   "id": "f1979843",
   "metadata": {},
   "source": [
    "### Cпособ оценивания через спецификацию"
   ]
  },
  {
   "cell_type": "code",
   "execution_count": 23,
   "id": "e77ad9be",
   "metadata": {},
   "outputs": [
    {
     "data": {
      "text/plain": [
       "Intercept    5.126\n",
       "age          0.014\n",
       "IQ           0.007\n",
       "south       -0.101\n",
       "urban        0.165\n",
       "married      0.191\n",
       "KWW          0.007\n",
       "dtype: float64"
      ]
     },
     "execution_count": 23,
     "metadata": {},
     "output_type": "execute_result"
    }
   ],
   "source": [
    "# специфицируем моделл через формулу\n",
    "wage_eq1 = smf.ols(formula='lwage~age+IQ+south+urban+married+KWW', data=df).fit()\n",
    "# Коэфициенты модели с округление\n",
    "wage_eq1.params.round(3)"
   ]
  },
  {
   "cell_type": "code",
   "execution_count": 18,
   "id": "7ecc54cf",
   "metadata": {},
   "outputs": [
    {
     "data": {
      "text/plain": [
       "935.0"
      ]
     },
     "execution_count": 18,
     "metadata": {},
     "output_type": "execute_result"
    }
   ],
   "source": [
    "# Число наблюдений, под которые подгонялась модель\n",
    "wage_eq1.nobs"
   ]
  },
  {
   "cell_type": "code",
   "execution_count": 26,
   "id": "624de12c",
   "metadata": {},
   "outputs": [
    {
     "data": {
      "text/plain": [
       "Intercept    5.126\n",
       "age          0.014\n",
       "IQ           0.007\n",
       "south       -0.101\n",
       "urban        0.165\n",
       "married      0.191\n",
       "KWW          0.007\n",
       "dtype: float64"
      ]
     },
     "execution_count": 26,
     "metadata": {},
     "output_type": "execute_result"
    }
   ],
   "source": [
    "# Альтеративно\n",
    "sleep_eq2 = sm.OLS.from_formula(formula='lwage~age+IQ+south+urban+married+KWW', data=df).fit()\n",
    "# Коэфициенты модели с округление\n",
    "sleep_eq2.params.round(3)"
   ]
  },
  {
   "cell_type": "markdown",
   "id": "a6cb3297",
   "metadata": {},
   "source": [
    "### Интерпретация модели\n",
    "1) Увеличение результата теста IQ на 1 балл прирощяет месячную зарплату на 0.7%\n",
    "2) Каждый год месячная зарплата человека в среднем увеличивается на 1.4%"
   ]
  }
 ],
 "metadata": {
  "kernelspec": {
   "display_name": "Python 3 (ipykernel)",
   "language": "python",
   "name": "python3"
  },
  "language_info": {
   "codemirror_mode": {
    "name": "ipython",
    "version": 3
   },
   "file_extension": ".py",
   "mimetype": "text/x-python",
   "name": "python",
   "nbconvert_exporter": "python",
   "pygments_lexer": "ipython3",
   "version": "3.9.16"
  }
 },
 "nbformat": 4,
 "nbformat_minor": 5
}
